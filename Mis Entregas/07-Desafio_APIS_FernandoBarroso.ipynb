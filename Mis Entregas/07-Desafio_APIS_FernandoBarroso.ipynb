{
  "nbformat": 4,
  "nbformat_minor": 0,
  "metadata": {
    "colab": {
      "provenance": []
    },
    "kernelspec": {
      "name": "python3",
      "display_name": "Python 3"
    },
    "language_info": {
      "name": "python"
    }
  },
  "cells": [
    {
      "cell_type": "code",
      "execution_count": null,
      "metadata": {
        "id": "6lg8L8BuZ5Rb"
      },
      "outputs": [],
      "source": [
        "import requests\n",
        "from datetime import date, timedelta\n",
        "import plotly.express as px\n",
        "import plotly.graph_objects as go\n",
        "import numpy as np\n",
        "import pandas as pd"
      ]
    },
    {
      "cell_type": "markdown",
      "source": [
        "## Recursos:\n",
        "- [IP get info](https://ipinfo.io/)\n",
        "- [NASA API](https://api.nasa.gov/)\n",
        "- [How to Create a 3D Model of the Solar System Using Plotly in Python](https://python.plainenglish.io/how-to-create-a-3d-model-of-the-solar-system-with-plotly-in-python-2a74e672b771)\n"
      ],
      "metadata": {
        "id": "aqilAaUhq3M2"
      }
    },
    {
      "cell_type": "markdown",
      "source": [
        "## Identificación de la ubicación:\n",
        "La obtención de la ubicación se logra mediante el uso de la dirección IP a través de la API de ipinfo.io."
      ],
      "metadata": {
        "id": "RX7MmFX9z6JG"
      }
    },
    {
      "cell_type": "code",
      "source": [
        "# Realiza una solicitud a ipinfo.io para obtener la información de ubicación basada en la IP\n",
        "response = requests.get('https://ipinfo.io')\n",
        "\n",
        "# Analiza la respuesta JSON\n",
        "data = response.json()\n",
        "\n",
        "# Extrae la latitud y longitud si están disponibles\n",
        "if 'loc' in data:\n",
        "    latitud, longitud = data['loc'].split(',')\n",
        "    print(f'Latitud: {latitud}')\n",
        "    print(f'Longitud: {longitud}')\n",
        "else:\n",
        "    print('No se pudo obtener la información de ubicación.')\n",
        "\n",
        "\"\"\" Recordar que la locacion identificada corresponde de la maquina virtual sobre la que corremos el script \"\"\""
      ],
      "metadata": {
        "colab": {
          "base_uri": "https://localhost:8080/",
          "height": 70
        },
        "id": "RGr13M_6aRZk",
        "outputId": "ef537913-0137-4348-a5f6-759dec09d24d"
      },
      "execution_count": null,
      "outputs": [
        {
          "output_type": "stream",
          "name": "stdout",
          "text": [
            "Latitud: 53.2192\n",
            "Longitud: 6.5667\n"
          ]
        },
        {
          "output_type": "execute_result",
          "data": {
            "text/plain": [
              "' Recordar que la locacion identificada corresponde de la maquina virtual sobre la que corremos el script '"
            ],
            "application/vnd.google.colaboratory.intrinsic+json": {
              "type": "string"
            }
          },
          "metadata": {},
          "execution_count": 2
        }
      ]
    },
    {
      "cell_type": "code",
      "source": [
        "# Crear un DataFrame con los datos y agrego mi locacion real\n",
        "data = {'location': ['Colab','House'],'Latitud': [latitud,-34.0981], 'Longitud': [longitud,-59.0286]}\n",
        "df = pd.DataFrame(data)"
      ],
      "metadata": {
        "id": "QjNJe72Aa9a-"
      },
      "execution_count": null,
      "outputs": []
    },
    {
      "cell_type": "code",
      "source": [
        "# Crear una figura de Plotly Express para el mapa\n",
        "fig = px.scatter_geo(df, lat='Latitud', lon='Longitud', scope='world')\n",
        "\n",
        "# Personalizar el diseño del mapa\n",
        "fig.update_geos(projection_type='orthographic')\n",
        "fig.add_trace(px.scatter_geo(df, lat='Latitud', lon='Longitud', text='location').data[0])\n",
        "fig.update_layout(title='Ubicaciones', geo=dict(showland=True))\n",
        "fig.show()"
      ],
      "metadata": {
        "colab": {
          "base_uri": "https://localhost:8080/",
          "height": 542
        },
        "id": "4iLqohama04Z",
        "outputId": "5d29bb65-a1b9-45e2-d4f5-0d03a572a6e1"
      },
      "execution_count": null,
      "outputs": [
        {
          "output_type": "display_data",
          "data": {
            "text/html": [
              "<html>\n",
              "<head><meta charset=\"utf-8\" /></head>\n",
              "<body>\n",
              "    <div>            <script src=\"https://cdnjs.cloudflare.com/ajax/libs/mathjax/2.7.5/MathJax.js?config=TeX-AMS-MML_SVG\"></script><script type=\"text/javascript\">if (window.MathJax && window.MathJax.Hub && window.MathJax.Hub.Config) {window.MathJax.Hub.Config({SVG: {font: \"STIX-Web\"}});}</script>                <script type=\"text/javascript\">window.PlotlyConfig = {MathJaxConfig: 'local'};</script>\n",
              "        <script charset=\"utf-8\" src=\"https://cdn.plot.ly/plotly-2.24.1.min.js\"></script>                <div id=\"82c779e4-c32b-40fd-a763-f132b741502f\" class=\"plotly-graph-div\" style=\"height:525px; width:100%;\"></div>            <script type=\"text/javascript\">                                    window.PLOTLYENV=window.PLOTLYENV || {};                                    if (document.getElementById(\"82c779e4-c32b-40fd-a763-f132b741502f\")) {                    Plotly.newPlot(                        \"82c779e4-c32b-40fd-a763-f132b741502f\",                        [{\"geo\":\"geo\",\"hovertemplate\":\"Latitud=%{lat}\\u003cbr\\u003eLongitud=%{lon}\\u003cextra\\u003e\\u003c\\u002fextra\\u003e\",\"lat\":[\"53.2192\",-34.0981],\"legendgroup\":\"\",\"lon\":[\"6.5667\",-59.0286],\"marker\":{\"color\":\"#636efa\",\"symbol\":\"circle\"},\"mode\":\"markers\",\"name\":\"\",\"showlegend\":false,\"type\":\"scattergeo\"},{\"geo\":\"geo\",\"hovertemplate\":\"location=%{text}\\u003cbr\\u003eLatitud=%{lat}\\u003cbr\\u003eLongitud=%{lon}\\u003cextra\\u003e\\u003c\\u002fextra\\u003e\",\"lat\":[\"53.2192\",-34.0981],\"legendgroup\":\"\",\"lon\":[\"6.5667\",-59.0286],\"marker\":{\"color\":\"#636efa\",\"symbol\":\"circle\"},\"mode\":\"markers+text\",\"name\":\"\",\"showlegend\":false,\"text\":[\"Colab\",\"House\"],\"type\":\"scattergeo\"}],                        {\"template\":{\"data\":{\"histogram2dcontour\":[{\"type\":\"histogram2dcontour\",\"colorbar\":{\"outlinewidth\":0,\"ticks\":\"\"},\"colorscale\":[[0.0,\"#0d0887\"],[0.1111111111111111,\"#46039f\"],[0.2222222222222222,\"#7201a8\"],[0.3333333333333333,\"#9c179e\"],[0.4444444444444444,\"#bd3786\"],[0.5555555555555556,\"#d8576b\"],[0.6666666666666666,\"#ed7953\"],[0.7777777777777778,\"#fb9f3a\"],[0.8888888888888888,\"#fdca26\"],[1.0,\"#f0f921\"]]}],\"choropleth\":[{\"type\":\"choropleth\",\"colorbar\":{\"outlinewidth\":0,\"ticks\":\"\"}}],\"histogram2d\":[{\"type\":\"histogram2d\",\"colorbar\":{\"outlinewidth\":0,\"ticks\":\"\"},\"colorscale\":[[0.0,\"#0d0887\"],[0.1111111111111111,\"#46039f\"],[0.2222222222222222,\"#7201a8\"],[0.3333333333333333,\"#9c179e\"],[0.4444444444444444,\"#bd3786\"],[0.5555555555555556,\"#d8576b\"],[0.6666666666666666,\"#ed7953\"],[0.7777777777777778,\"#fb9f3a\"],[0.8888888888888888,\"#fdca26\"],[1.0,\"#f0f921\"]]}],\"heatmap\":[{\"type\":\"heatmap\",\"colorbar\":{\"outlinewidth\":0,\"ticks\":\"\"},\"colorscale\":[[0.0,\"#0d0887\"],[0.1111111111111111,\"#46039f\"],[0.2222222222222222,\"#7201a8\"],[0.3333333333333333,\"#9c179e\"],[0.4444444444444444,\"#bd3786\"],[0.5555555555555556,\"#d8576b\"],[0.6666666666666666,\"#ed7953\"],[0.7777777777777778,\"#fb9f3a\"],[0.8888888888888888,\"#fdca26\"],[1.0,\"#f0f921\"]]}],\"heatmapgl\":[{\"type\":\"heatmapgl\",\"colorbar\":{\"outlinewidth\":0,\"ticks\":\"\"},\"colorscale\":[[0.0,\"#0d0887\"],[0.1111111111111111,\"#46039f\"],[0.2222222222222222,\"#7201a8\"],[0.3333333333333333,\"#9c179e\"],[0.4444444444444444,\"#bd3786\"],[0.5555555555555556,\"#d8576b\"],[0.6666666666666666,\"#ed7953\"],[0.7777777777777778,\"#fb9f3a\"],[0.8888888888888888,\"#fdca26\"],[1.0,\"#f0f921\"]]}],\"contourcarpet\":[{\"type\":\"contourcarpet\",\"colorbar\":{\"outlinewidth\":0,\"ticks\":\"\"}}],\"contour\":[{\"type\":\"contour\",\"colorbar\":{\"outlinewidth\":0,\"ticks\":\"\"},\"colorscale\":[[0.0,\"#0d0887\"],[0.1111111111111111,\"#46039f\"],[0.2222222222222222,\"#7201a8\"],[0.3333333333333333,\"#9c179e\"],[0.4444444444444444,\"#bd3786\"],[0.5555555555555556,\"#d8576b\"],[0.6666666666666666,\"#ed7953\"],[0.7777777777777778,\"#fb9f3a\"],[0.8888888888888888,\"#fdca26\"],[1.0,\"#f0f921\"]]}],\"surface\":[{\"type\":\"surface\",\"colorbar\":{\"outlinewidth\":0,\"ticks\":\"\"},\"colorscale\":[[0.0,\"#0d0887\"],[0.1111111111111111,\"#46039f\"],[0.2222222222222222,\"#7201a8\"],[0.3333333333333333,\"#9c179e\"],[0.4444444444444444,\"#bd3786\"],[0.5555555555555556,\"#d8576b\"],[0.6666666666666666,\"#ed7953\"],[0.7777777777777778,\"#fb9f3a\"],[0.8888888888888888,\"#fdca26\"],[1.0,\"#f0f921\"]]}],\"mesh3d\":[{\"type\":\"mesh3d\",\"colorbar\":{\"outlinewidth\":0,\"ticks\":\"\"}}],\"scatter\":[{\"fillpattern\":{\"fillmode\":\"overlay\",\"size\":10,\"solidity\":0.2},\"type\":\"scatter\"}],\"parcoords\":[{\"type\":\"parcoords\",\"line\":{\"colorbar\":{\"outlinewidth\":0,\"ticks\":\"\"}}}],\"scatterpolargl\":[{\"type\":\"scatterpolargl\",\"marker\":{\"colorbar\":{\"outlinewidth\":0,\"ticks\":\"\"}}}],\"bar\":[{\"error_x\":{\"color\":\"#2a3f5f\"},\"error_y\":{\"color\":\"#2a3f5f\"},\"marker\":{\"line\":{\"color\":\"#E5ECF6\",\"width\":0.5},\"pattern\":{\"fillmode\":\"overlay\",\"size\":10,\"solidity\":0.2}},\"type\":\"bar\"}],\"scattergeo\":[{\"type\":\"scattergeo\",\"marker\":{\"colorbar\":{\"outlinewidth\":0,\"ticks\":\"\"}}}],\"scatterpolar\":[{\"type\":\"scatterpolar\",\"marker\":{\"colorbar\":{\"outlinewidth\":0,\"ticks\":\"\"}}}],\"histogram\":[{\"marker\":{\"pattern\":{\"fillmode\":\"overlay\",\"size\":10,\"solidity\":0.2}},\"type\":\"histogram\"}],\"scattergl\":[{\"type\":\"scattergl\",\"marker\":{\"colorbar\":{\"outlinewidth\":0,\"ticks\":\"\"}}}],\"scatter3d\":[{\"type\":\"scatter3d\",\"line\":{\"colorbar\":{\"outlinewidth\":0,\"ticks\":\"\"}},\"marker\":{\"colorbar\":{\"outlinewidth\":0,\"ticks\":\"\"}}}],\"scattermapbox\":[{\"type\":\"scattermapbox\",\"marker\":{\"colorbar\":{\"outlinewidth\":0,\"ticks\":\"\"}}}],\"scatterternary\":[{\"type\":\"scatterternary\",\"marker\":{\"colorbar\":{\"outlinewidth\":0,\"ticks\":\"\"}}}],\"scattercarpet\":[{\"type\":\"scattercarpet\",\"marker\":{\"colorbar\":{\"outlinewidth\":0,\"ticks\":\"\"}}}],\"carpet\":[{\"aaxis\":{\"endlinecolor\":\"#2a3f5f\",\"gridcolor\":\"white\",\"linecolor\":\"white\",\"minorgridcolor\":\"white\",\"startlinecolor\":\"#2a3f5f\"},\"baxis\":{\"endlinecolor\":\"#2a3f5f\",\"gridcolor\":\"white\",\"linecolor\":\"white\",\"minorgridcolor\":\"white\",\"startlinecolor\":\"#2a3f5f\"},\"type\":\"carpet\"}],\"table\":[{\"cells\":{\"fill\":{\"color\":\"#EBF0F8\"},\"line\":{\"color\":\"white\"}},\"header\":{\"fill\":{\"color\":\"#C8D4E3\"},\"line\":{\"color\":\"white\"}},\"type\":\"table\"}],\"barpolar\":[{\"marker\":{\"line\":{\"color\":\"#E5ECF6\",\"width\":0.5},\"pattern\":{\"fillmode\":\"overlay\",\"size\":10,\"solidity\":0.2}},\"type\":\"barpolar\"}],\"pie\":[{\"automargin\":true,\"type\":\"pie\"}]},\"layout\":{\"autotypenumbers\":\"strict\",\"colorway\":[\"#636efa\",\"#EF553B\",\"#00cc96\",\"#ab63fa\",\"#FFA15A\",\"#19d3f3\",\"#FF6692\",\"#B6E880\",\"#FF97FF\",\"#FECB52\"],\"font\":{\"color\":\"#2a3f5f\"},\"hovermode\":\"closest\",\"hoverlabel\":{\"align\":\"left\"},\"paper_bgcolor\":\"white\",\"plot_bgcolor\":\"#E5ECF6\",\"polar\":{\"bgcolor\":\"#E5ECF6\",\"angularaxis\":{\"gridcolor\":\"white\",\"linecolor\":\"white\",\"ticks\":\"\"},\"radialaxis\":{\"gridcolor\":\"white\",\"linecolor\":\"white\",\"ticks\":\"\"}},\"ternary\":{\"bgcolor\":\"#E5ECF6\",\"aaxis\":{\"gridcolor\":\"white\",\"linecolor\":\"white\",\"ticks\":\"\"},\"baxis\":{\"gridcolor\":\"white\",\"linecolor\":\"white\",\"ticks\":\"\"},\"caxis\":{\"gridcolor\":\"white\",\"linecolor\":\"white\",\"ticks\":\"\"}},\"coloraxis\":{\"colorbar\":{\"outlinewidth\":0,\"ticks\":\"\"}},\"colorscale\":{\"sequential\":[[0.0,\"#0d0887\"],[0.1111111111111111,\"#46039f\"],[0.2222222222222222,\"#7201a8\"],[0.3333333333333333,\"#9c179e\"],[0.4444444444444444,\"#bd3786\"],[0.5555555555555556,\"#d8576b\"],[0.6666666666666666,\"#ed7953\"],[0.7777777777777778,\"#fb9f3a\"],[0.8888888888888888,\"#fdca26\"],[1.0,\"#f0f921\"]],\"sequentialminus\":[[0.0,\"#0d0887\"],[0.1111111111111111,\"#46039f\"],[0.2222222222222222,\"#7201a8\"],[0.3333333333333333,\"#9c179e\"],[0.4444444444444444,\"#bd3786\"],[0.5555555555555556,\"#d8576b\"],[0.6666666666666666,\"#ed7953\"],[0.7777777777777778,\"#fb9f3a\"],[0.8888888888888888,\"#fdca26\"],[1.0,\"#f0f921\"]],\"diverging\":[[0,\"#8e0152\"],[0.1,\"#c51b7d\"],[0.2,\"#de77ae\"],[0.3,\"#f1b6da\"],[0.4,\"#fde0ef\"],[0.5,\"#f7f7f7\"],[0.6,\"#e6f5d0\"],[0.7,\"#b8e186\"],[0.8,\"#7fbc41\"],[0.9,\"#4d9221\"],[1,\"#276419\"]]},\"xaxis\":{\"gridcolor\":\"white\",\"linecolor\":\"white\",\"ticks\":\"\",\"title\":{\"standoff\":15},\"zerolinecolor\":\"white\",\"automargin\":true,\"zerolinewidth\":2},\"yaxis\":{\"gridcolor\":\"white\",\"linecolor\":\"white\",\"ticks\":\"\",\"title\":{\"standoff\":15},\"zerolinecolor\":\"white\",\"automargin\":true,\"zerolinewidth\":2},\"scene\":{\"xaxis\":{\"backgroundcolor\":\"#E5ECF6\",\"gridcolor\":\"white\",\"linecolor\":\"white\",\"showbackground\":true,\"ticks\":\"\",\"zerolinecolor\":\"white\",\"gridwidth\":2},\"yaxis\":{\"backgroundcolor\":\"#E5ECF6\",\"gridcolor\":\"white\",\"linecolor\":\"white\",\"showbackground\":true,\"ticks\":\"\",\"zerolinecolor\":\"white\",\"gridwidth\":2},\"zaxis\":{\"backgroundcolor\":\"#E5ECF6\",\"gridcolor\":\"white\",\"linecolor\":\"white\",\"showbackground\":true,\"ticks\":\"\",\"zerolinecolor\":\"white\",\"gridwidth\":2}},\"shapedefaults\":{\"line\":{\"color\":\"#2a3f5f\"}},\"annotationdefaults\":{\"arrowcolor\":\"#2a3f5f\",\"arrowhead\":0,\"arrowwidth\":1},\"geo\":{\"bgcolor\":\"white\",\"landcolor\":\"#E5ECF6\",\"subunitcolor\":\"white\",\"showland\":true,\"showlakes\":true,\"lakecolor\":\"white\"},\"title\":{\"x\":0.05},\"mapbox\":{\"style\":\"light\"}}},\"geo\":{\"domain\":{\"x\":[0.0,1.0],\"y\":[0.0,1.0]},\"center\":{},\"scope\":\"world\",\"projection\":{\"type\":\"orthographic\"},\"showland\":true},\"legend\":{\"tracegroupgap\":0},\"margin\":{\"t\":60},\"title\":{\"text\":\"Ubicaciones\"}},                        {\"responsive\": true}                    ).then(function(){\n",
              "                            \n",
              "var gd = document.getElementById('82c779e4-c32b-40fd-a763-f132b741502f');\n",
              "var x = new MutationObserver(function (mutations, observer) {{\n",
              "        var display = window.getComputedStyle(gd).display;\n",
              "        if (!display || display === 'none') {{\n",
              "            console.log([gd, 'removed!']);\n",
              "            Plotly.purge(gd);\n",
              "            observer.disconnect();\n",
              "        }}\n",
              "}});\n",
              "\n",
              "// Listen for the removal of the full notebook cells\n",
              "var notebookContainer = gd.closest('#notebook-container');\n",
              "if (notebookContainer) {{\n",
              "    x.observe(notebookContainer, {childList: true});\n",
              "}}\n",
              "\n",
              "// Listen for the clearing of the current output cell\n",
              "var outputEl = gd.closest('.output');\n",
              "if (outputEl) {{\n",
              "    x.observe(outputEl, {childList: true});\n",
              "}}\n",
              "\n",
              "                        })                };                            </script>        </div>\n",
              "</body>\n",
              "</html>"
            ]
          },
          "metadata": {}
        }
      ]
    },
    {
      "cell_type": "markdown",
      "source": [
        "## NASA API"
      ],
      "metadata": {
        "id": "olzN570V0wFQ"
      }
    },
    {
      "cell_type": "code",
      "source": [
        "import ephem\n",
        "def calcular_fase_lunar(latitud, longitud, fecha_inicio):\n",
        "    # Crear un observador para la ubicación y fecha especificadas.\n",
        "    observer = ephem.Observer()\n",
        "    observer.lat = latitud\n",
        "    observer.long = longitud\n",
        "    observer.date = fecha_inicio\n",
        "\n",
        "    # Calcular la fase lunar.\n",
        "    moon = ephem.Moon()\n",
        "    moon.compute(observer)\n",
        "\n",
        "    # Obtener la fase lunar como un valor decimal y convertirla a porcentaje.\n",
        "    fase_porcentaje = (moon.moon_phase / 29.53) * 100\n",
        "\n",
        "    return fase_porcentaje"
      ],
      "metadata": {
        "id": "5d3Cq24L5hPV"
      },
      "execution_count": null,
      "outputs": []
    },
    {
      "cell_type": "code",
      "source": [
        "for index, row in df.iterrows():\n",
        "    ubicacion = row['location']\n",
        "    latitud = row['Latitud']\n",
        "    longitud = row['Longitud']\n",
        "    fecha_inicio = date.today()\n",
        "    fase_porcentaje = calcular_fase_lunar(latitud, longitud, fecha_inicio)\n",
        "\n",
        "    # Imprimir la ubicación y la fase lunar en porcentaje.\n",
        "    print(f\"Ubicación: {ubicacion}, Fase Lunar (en %): {fase_porcentaje:.2f}%\")"
      ],
      "metadata": {
        "colab": {
          "base_uri": "https://localhost:8080/"
        },
        "id": "OP6XYtctI-aO",
        "outputId": "70a98a09-d4dd-46da-fc91-1cf02d41b8af"
      },
      "execution_count": null,
      "outputs": [
        {
          "output_type": "stream",
          "name": "stdout",
          "text": [
            "Ubicación: Colab, Fase Lunar (en %): 0.29%\n",
            "Ubicación: House, Fase Lunar (en %): 0.29%\n"
          ]
        }
      ]
    },
    {
      "cell_type": "code",
      "source": [
        "# Configura tu clave de API de la NASA\n",
        "api_key = 'PSNQRV93quuyth4x59j2YFK7D0PXJXHQjxnizShQ'"
      ],
      "metadata": {
        "id": "m-FTpKJfaVlH"
      },
      "execution_count": null,
      "outputs": []
    },
    {
      "cell_type": "code",
      "source": [
        "# Obtener la fecha de inicio (1 de enero de 2023)\n",
        "fecha_inicio = date(2023, 1, 1)\n",
        "\n",
        "# Obtener la fecha de fin (31 de diciembre de 2023)\n",
        "fecha_fin = date(2023, 12, 31)\n",
        "\n",
        "# Crear un DataFrame vacío para almacenar los eventos astronómicos\n",
        "eventos_df = []\n",
        "\n",
        "# Consultar la API APOD para cada día del año 2023\n",
        "fecha = fecha_inicio\n",
        "while fecha <= fecha_fin:\n",
        "    fecha_str = fecha.strftime('%Y-%m-%d')\n",
        "    url = f'https://api.nasa.gov/planetary/apod?date={fecha_str}&api_key={api_key}'\n",
        "    response = requests.get(url)\n",
        "    if response.status_code == 200:\n",
        "        data = response.json()\n",
        "        eventos_df.append({\n",
        "            'Fecha': fecha_str,\n",
        "            'Título': data.get('title', ''),\n",
        "            'Explicación': data.get('explanation', ''),\n",
        "            'URL': data.get('url', ''),\n",
        "            'Créditos': data.get('copyright', ''),\n",
        "            'HdURL': data.get('hdurl', ''),\n",
        "            'MediaTipo': data.get('media_type', ''),\n",
        "        })\n",
        "    fecha += timedelta(days=1)\n",
        "\n"
      ],
      "metadata": {
        "id": "FrBTR631-4pN"
      },
      "execution_count": null,
      "outputs": []
    },
    {
      "cell_type": "code",
      "source": [
        "eventos_df = pd.DataFrame(eventos_df)"
      ],
      "metadata": {
        "id": "qUPoyG6QC3Sa"
      },
      "execution_count": null,
      "outputs": []
    },
    {
      "cell_type": "code",
      "source": [
        "palabras_clave = {\n",
        "    'Cometa': ['Comet'],\n",
        "    'Estacion': ['Space Station', 'ISS', 'Orbit', 'Space Station', 'Low Earth Orbit'],\n",
        "    'Nebulosa': ['Nebula', 'Nebular', 'Nebulosity', 'Galaxy', 'Stellar Cloud'],\n",
        "    'Luna': ['Moon', 'Lunar'],\n",
        "    'Planeta': ['Planet', 'Planetary', 'Mars', 'Venus', 'Jupiter', 'Saturn', 'Neptune', 'Uranus', 'Mercury'],\n",
        "    'Agujero Negro': ['Black Hole'],\n",
        "    'Asterismo': ['Asterism'],\n",
        "    'Constelación': ['Constellation'],\n",
        "    'Supernova': ['Supernova'],\n",
        "    'Estrella': ['Star', 'Stellar'],\n",
        "    'Meteorito': ['Meteor', 'Meteorite'],\n",
        "    'Eclipse': ['Eclipse', 'Solar Eclipse', 'Lunar Eclipse'],\n",
        "    'Galaxia': ['Galaxy', 'Spiral Galaxy', 'Elliptical Galaxy'],\n",
        "    'Planeta Enano': ['Dwarf Planet'],\n",
        "    'Estación Espacial': ['Space Station', 'International Space Station', 'ISS'],\n",
        "    'Satélite Natural': ['Moon', 'Lunar'],\n",
        "    'Cúmulo Estelar': ['Star Cluster'],\n",
        "    'Evento Celestial': ['Celestial Event'],\n",
        "    'Otro': [],  # Si no se encuentra ninguna coincidencia, se clasifica como \"Otro\"\n",
        "}\n"
      ],
      "metadata": {
        "id": "-ZHq3IvSDyaC"
      },
      "execution_count": null,
      "outputs": []
    },
    {
      "cell_type": "code",
      "source": [
        "# Función para asignar una categoría a un evento basada en las palabras clave\n",
        "def asignar_categoria(descripcion):\n",
        "    for categoria, palabras in palabras_clave.items():\n",
        "        for palabra in palabras:\n",
        "            if palabra.lower() in descripcion.lower():\n",
        "                return categoria\n",
        "    return 'Otro'  # Si no se encuentra ninguna coincidencia, asigna la categoría \"Otro\""
      ],
      "metadata": {
        "id": "IwxN46ASD2fj"
      },
      "execution_count": null,
      "outputs": []
    },
    {
      "cell_type": "code",
      "source": [
        "# Definir una función para asignar subcategorías a los eventos de eclipse\n",
        "def asignar_subcategoria(descripcion):\n",
        "    if 'Solar Eclipse' in descripcion:\n",
        "        return 'Solar'\n",
        "    elif 'Lunar Eclipse' in descripcion:\n",
        "        return 'Lunar'\n",
        "    else:\n",
        "        return 'N/A'  # Si no se encuentra ninguna coincidencia, se asigna \"N/A\""
      ],
      "metadata": {
        "id": "spCxVz6hGBXW"
      },
      "execution_count": null,
      "outputs": []
    },
    {
      "cell_type": "code",
      "source": [
        "# Aplicar la función para asignar categorías a cada evento\n",
        "eventos_df['Categoria'] = eventos_df['Explicación'].apply(asignar_categoria)\n",
        "\n",
        "# Aplicar la función para asignar subcategorías a los eventos de eclipse\n",
        "eventos_df['Subcategoria'] = eventos_df['Explicación'].apply(asignar_subcategoria)\n",
        "\n",
        "# Convertir la columna de Fecha a tipo de dato datetime\n",
        "eventos_df['Fecha'] = pd.to_datetime(eventos_df['Fecha'])\n",
        "\n",
        "# Agregar una columna de Mes para agrupar por mes\n",
        "eventos_df['Mes'] = eventos_df['Fecha'].dt.strftime('%B')"
      ],
      "metadata": {
        "id": "t49FZ5o7EMon"
      },
      "execution_count": null,
      "outputs": []
    },
    {
      "cell_type": "code",
      "source": [
        "eventos_df.tail(5)"
      ],
      "metadata": {
        "colab": {
          "base_uri": "https://localhost:8080/",
          "height": 625
        },
        "id": "amBDAJ1qE4VP",
        "outputId": "480ce1ab-5802-4363-e8fb-1dfb5132482b"
      },
      "execution_count": null,
      "outputs": [
        {
          "output_type": "execute_result",
          "data": {
            "text/plain": [
              "         Fecha                                    Título  \\\n",
              "249 2023-09-07               The Large Cloud of Magellan   \n",
              "250 2023-09-08                   Star Factory Messier 17   \n",
              "251 2023-09-09                     Comet Nishimura Grows   \n",
              "252 2023-09-10  An Annular Solar Eclipse over New Mexico   \n",
              "253 2023-09-11                 Beautiful Comet Nishimura   \n",
              "\n",
              "                                           Explicación  \\\n",
              "249  The 16th century Portuguese navigator Ferdinan...   \n",
              "250  Sculpted by stellar winds and radiation, the s...   \n",
              "251  Comet Nishimura is growing. More precisely, th...   \n",
              "252  What is this person doing?  In 2012, an annula...   \n",
              "253  This scene would be beautiful even without the...   \n",
              "\n",
              "                                                   URL  \\\n",
              "249  https://apod.nasa.gov/apod/image/2309/TheLarge...   \n",
              "250  https://apod.nasa.gov/apod/image/2309/OmegaNeb...   \n",
              "251  https://apod.nasa.gov/apod/image/2309/Nishimur...   \n",
              "252  https://apod.nasa.gov/apod/image/2309/AnnularE...   \n",
              "253  https://apod.nasa.gov/apod/image/2309/BeautNis...   \n",
              "\n",
              "                                              Créditos  \\\n",
              "249                                     Chris Willocks   \n",
              "250                                          Kim Quick   \n",
              "251                                  \\nPeter Kennett\\n   \n",
              "252                                 \\nColleen Pinski\\n   \n",
              "253  \\nPetr Horálek /\\nInstitute of Physics in Opava\\n   \n",
              "\n",
              "                                                 HdURL MediaTipo Categoria  \\\n",
              "249  https://apod.nasa.gov/apod/image/2309/TheLarge...     image  Nebulosa   \n",
              "250  https://apod.nasa.gov/apod/image/2309/OmegaNeb...     image  Nebulosa   \n",
              "251  https://apod.nasa.gov/apod/image/2309/Nishimur...     image    Cometa   \n",
              "252  https://apod.nasa.gov/apod/image/2309/AnnularE...     image      Luna   \n",
              "253  https://apod.nasa.gov/apod/image/2309/BeautNis...     image    Cometa   \n",
              "\n",
              "    Subcategoria        Mes  \n",
              "249          N/A  September  \n",
              "250          N/A  September  \n",
              "251          N/A  September  \n",
              "252          N/A  September  \n",
              "253          N/A  September  "
            ],
            "text/html": [
              "\n",
              "  <div id=\"df-bf78ad06-3144-40c3-80c6-3aa5ea34534c\" class=\"colab-df-container\">\n",
              "    <div>\n",
              "<style scoped>\n",
              "    .dataframe tbody tr th:only-of-type {\n",
              "        vertical-align: middle;\n",
              "    }\n",
              "\n",
              "    .dataframe tbody tr th {\n",
              "        vertical-align: top;\n",
              "    }\n",
              "\n",
              "    .dataframe thead th {\n",
              "        text-align: right;\n",
              "    }\n",
              "</style>\n",
              "<table border=\"1\" class=\"dataframe\">\n",
              "  <thead>\n",
              "    <tr style=\"text-align: right;\">\n",
              "      <th></th>\n",
              "      <th>Fecha</th>\n",
              "      <th>Título</th>\n",
              "      <th>Explicación</th>\n",
              "      <th>URL</th>\n",
              "      <th>Créditos</th>\n",
              "      <th>HdURL</th>\n",
              "      <th>MediaTipo</th>\n",
              "      <th>Categoria</th>\n",
              "      <th>Subcategoria</th>\n",
              "      <th>Mes</th>\n",
              "    </tr>\n",
              "  </thead>\n",
              "  <tbody>\n",
              "    <tr>\n",
              "      <th>249</th>\n",
              "      <td>2023-09-07</td>\n",
              "      <td>The Large Cloud of Magellan</td>\n",
              "      <td>The 16th century Portuguese navigator Ferdinan...</td>\n",
              "      <td>https://apod.nasa.gov/apod/image/2309/TheLarge...</td>\n",
              "      <td>Chris Willocks</td>\n",
              "      <td>https://apod.nasa.gov/apod/image/2309/TheLarge...</td>\n",
              "      <td>image</td>\n",
              "      <td>Nebulosa</td>\n",
              "      <td>N/A</td>\n",
              "      <td>September</td>\n",
              "    </tr>\n",
              "    <tr>\n",
              "      <th>250</th>\n",
              "      <td>2023-09-08</td>\n",
              "      <td>Star Factory Messier 17</td>\n",
              "      <td>Sculpted by stellar winds and radiation, the s...</td>\n",
              "      <td>https://apod.nasa.gov/apod/image/2309/OmegaNeb...</td>\n",
              "      <td>Kim Quick</td>\n",
              "      <td>https://apod.nasa.gov/apod/image/2309/OmegaNeb...</td>\n",
              "      <td>image</td>\n",
              "      <td>Nebulosa</td>\n",
              "      <td>N/A</td>\n",
              "      <td>September</td>\n",
              "    </tr>\n",
              "    <tr>\n",
              "      <th>251</th>\n",
              "      <td>2023-09-09</td>\n",
              "      <td>Comet Nishimura Grows</td>\n",
              "      <td>Comet Nishimura is growing. More precisely, th...</td>\n",
              "      <td>https://apod.nasa.gov/apod/image/2309/Nishimur...</td>\n",
              "      <td>\\nPeter Kennett\\n</td>\n",
              "      <td>https://apod.nasa.gov/apod/image/2309/Nishimur...</td>\n",
              "      <td>image</td>\n",
              "      <td>Cometa</td>\n",
              "      <td>N/A</td>\n",
              "      <td>September</td>\n",
              "    </tr>\n",
              "    <tr>\n",
              "      <th>252</th>\n",
              "      <td>2023-09-10</td>\n",
              "      <td>An Annular Solar Eclipse over New Mexico</td>\n",
              "      <td>What is this person doing?  In 2012, an annula...</td>\n",
              "      <td>https://apod.nasa.gov/apod/image/2309/AnnularE...</td>\n",
              "      <td>\\nColleen Pinski\\n</td>\n",
              "      <td>https://apod.nasa.gov/apod/image/2309/AnnularE...</td>\n",
              "      <td>image</td>\n",
              "      <td>Luna</td>\n",
              "      <td>N/A</td>\n",
              "      <td>September</td>\n",
              "    </tr>\n",
              "    <tr>\n",
              "      <th>253</th>\n",
              "      <td>2023-09-11</td>\n",
              "      <td>Beautiful Comet Nishimura</td>\n",
              "      <td>This scene would be beautiful even without the...</td>\n",
              "      <td>https://apod.nasa.gov/apod/image/2309/BeautNis...</td>\n",
              "      <td>\\nPetr Horálek /\\nInstitute of Physics in Opava\\n</td>\n",
              "      <td>https://apod.nasa.gov/apod/image/2309/BeautNis...</td>\n",
              "      <td>image</td>\n",
              "      <td>Cometa</td>\n",
              "      <td>N/A</td>\n",
              "      <td>September</td>\n",
              "    </tr>\n",
              "  </tbody>\n",
              "</table>\n",
              "</div>\n",
              "    <div class=\"colab-df-buttons\">\n",
              "\n",
              "  <div class=\"colab-df-container\">\n",
              "    <button class=\"colab-df-convert\" onclick=\"convertToInteractive('df-bf78ad06-3144-40c3-80c6-3aa5ea34534c')\"\n",
              "            title=\"Convert this dataframe to an interactive table.\"\n",
              "            style=\"display:none;\">\n",
              "\n",
              "  <svg xmlns=\"http://www.w3.org/2000/svg\" height=\"24px\" viewBox=\"0 -960 960 960\">\n",
              "    <path d=\"M120-120v-720h720v720H120Zm60-500h600v-160H180v160Zm220 220h160v-160H400v160Zm0 220h160v-160H400v160ZM180-400h160v-160H180v160Zm440 0h160v-160H620v160ZM180-180h160v-160H180v160Zm440 0h160v-160H620v160Z\"/>\n",
              "  </svg>\n",
              "    </button>\n",
              "\n",
              "  <style>\n",
              "    .colab-df-container {\n",
              "      display:flex;\n",
              "      gap: 12px;\n",
              "    }\n",
              "\n",
              "    .colab-df-convert {\n",
              "      background-color: #E8F0FE;\n",
              "      border: none;\n",
              "      border-radius: 50%;\n",
              "      cursor: pointer;\n",
              "      display: none;\n",
              "      fill: #1967D2;\n",
              "      height: 32px;\n",
              "      padding: 0 0 0 0;\n",
              "      width: 32px;\n",
              "    }\n",
              "\n",
              "    .colab-df-convert:hover {\n",
              "      background-color: #E2EBFA;\n",
              "      box-shadow: 0px 1px 2px rgba(60, 64, 67, 0.3), 0px 1px 3px 1px rgba(60, 64, 67, 0.15);\n",
              "      fill: #174EA6;\n",
              "    }\n",
              "\n",
              "    .colab-df-buttons div {\n",
              "      margin-bottom: 4px;\n",
              "    }\n",
              "\n",
              "    [theme=dark] .colab-df-convert {\n",
              "      background-color: #3B4455;\n",
              "      fill: #D2E3FC;\n",
              "    }\n",
              "\n",
              "    [theme=dark] .colab-df-convert:hover {\n",
              "      background-color: #434B5C;\n",
              "      box-shadow: 0px 1px 3px 1px rgba(0, 0, 0, 0.15);\n",
              "      filter: drop-shadow(0px 1px 2px rgba(0, 0, 0, 0.3));\n",
              "      fill: #FFFFFF;\n",
              "    }\n",
              "  </style>\n",
              "\n",
              "    <script>\n",
              "      const buttonEl =\n",
              "        document.querySelector('#df-bf78ad06-3144-40c3-80c6-3aa5ea34534c button.colab-df-convert');\n",
              "      buttonEl.style.display =\n",
              "        google.colab.kernel.accessAllowed ? 'block' : 'none';\n",
              "\n",
              "      async function convertToInteractive(key) {\n",
              "        const element = document.querySelector('#df-bf78ad06-3144-40c3-80c6-3aa5ea34534c');\n",
              "        const dataTable =\n",
              "          await google.colab.kernel.invokeFunction('convertToInteractive',\n",
              "                                                    [key], {});\n",
              "        if (!dataTable) return;\n",
              "\n",
              "        const docLinkHtml = 'Like what you see? Visit the ' +\n",
              "          '<a target=\"_blank\" href=https://colab.research.google.com/notebooks/data_table.ipynb>data table notebook</a>'\n",
              "          + ' to learn more about interactive tables.';\n",
              "        element.innerHTML = '';\n",
              "        dataTable['output_type'] = 'display_data';\n",
              "        await google.colab.output.renderOutput(dataTable, element);\n",
              "        const docLink = document.createElement('div');\n",
              "        docLink.innerHTML = docLinkHtml;\n",
              "        element.appendChild(docLink);\n",
              "      }\n",
              "    </script>\n",
              "  </div>\n",
              "\n",
              "\n",
              "<div id=\"df-a5465dea-d616-4d69-90cb-e3327f414588\">\n",
              "  <button class=\"colab-df-quickchart\" onclick=\"quickchart('df-a5465dea-d616-4d69-90cb-e3327f414588')\"\n",
              "            title=\"Suggest charts.\"\n",
              "            style=\"display:none;\">\n",
              "\n",
              "<svg xmlns=\"http://www.w3.org/2000/svg\" height=\"24px\"viewBox=\"0 0 24 24\"\n",
              "     width=\"24px\">\n",
              "    <g>\n",
              "        <path d=\"M19 3H5c-1.1 0-2 .9-2 2v14c0 1.1.9 2 2 2h14c1.1 0 2-.9 2-2V5c0-1.1-.9-2-2-2zM9 17H7v-7h2v7zm4 0h-2V7h2v10zm4 0h-2v-4h2v4z\"/>\n",
              "    </g>\n",
              "</svg>\n",
              "  </button>\n",
              "\n",
              "<style>\n",
              "  .colab-df-quickchart {\n",
              "      --bg-color: #E8F0FE;\n",
              "      --fill-color: #1967D2;\n",
              "      --hover-bg-color: #E2EBFA;\n",
              "      --hover-fill-color: #174EA6;\n",
              "      --disabled-fill-color: #AAA;\n",
              "      --disabled-bg-color: #DDD;\n",
              "  }\n",
              "\n",
              "  [theme=dark] .colab-df-quickchart {\n",
              "      --bg-color: #3B4455;\n",
              "      --fill-color: #D2E3FC;\n",
              "      --hover-bg-color: #434B5C;\n",
              "      --hover-fill-color: #FFFFFF;\n",
              "      --disabled-bg-color: #3B4455;\n",
              "      --disabled-fill-color: #666;\n",
              "  }\n",
              "\n",
              "  .colab-df-quickchart {\n",
              "    background-color: var(--bg-color);\n",
              "    border: none;\n",
              "    border-radius: 50%;\n",
              "    cursor: pointer;\n",
              "    display: none;\n",
              "    fill: var(--fill-color);\n",
              "    height: 32px;\n",
              "    padding: 0;\n",
              "    width: 32px;\n",
              "  }\n",
              "\n",
              "  .colab-df-quickchart:hover {\n",
              "    background-color: var(--hover-bg-color);\n",
              "    box-shadow: 0 1px 2px rgba(60, 64, 67, 0.3), 0 1px 3px 1px rgba(60, 64, 67, 0.15);\n",
              "    fill: var(--button-hover-fill-color);\n",
              "  }\n",
              "\n",
              "  .colab-df-quickchart-complete:disabled,\n",
              "  .colab-df-quickchart-complete:disabled:hover {\n",
              "    background-color: var(--disabled-bg-color);\n",
              "    fill: var(--disabled-fill-color);\n",
              "    box-shadow: none;\n",
              "  }\n",
              "\n",
              "  .colab-df-spinner {\n",
              "    border: 2px solid var(--fill-color);\n",
              "    border-color: transparent;\n",
              "    border-bottom-color: var(--fill-color);\n",
              "    animation:\n",
              "      spin 1s steps(1) infinite;\n",
              "  }\n",
              "\n",
              "  @keyframes spin {\n",
              "    0% {\n",
              "      border-color: transparent;\n",
              "      border-bottom-color: var(--fill-color);\n",
              "      border-left-color: var(--fill-color);\n",
              "    }\n",
              "    20% {\n",
              "      border-color: transparent;\n",
              "      border-left-color: var(--fill-color);\n",
              "      border-top-color: var(--fill-color);\n",
              "    }\n",
              "    30% {\n",
              "      border-color: transparent;\n",
              "      border-left-color: var(--fill-color);\n",
              "      border-top-color: var(--fill-color);\n",
              "      border-right-color: var(--fill-color);\n",
              "    }\n",
              "    40% {\n",
              "      border-color: transparent;\n",
              "      border-right-color: var(--fill-color);\n",
              "      border-top-color: var(--fill-color);\n",
              "    }\n",
              "    60% {\n",
              "      border-color: transparent;\n",
              "      border-right-color: var(--fill-color);\n",
              "    }\n",
              "    80% {\n",
              "      border-color: transparent;\n",
              "      border-right-color: var(--fill-color);\n",
              "      border-bottom-color: var(--fill-color);\n",
              "    }\n",
              "    90% {\n",
              "      border-color: transparent;\n",
              "      border-bottom-color: var(--fill-color);\n",
              "    }\n",
              "  }\n",
              "</style>\n",
              "\n",
              "  <script>\n",
              "    async function quickchart(key) {\n",
              "      const quickchartButtonEl =\n",
              "        document.querySelector('#' + key + ' button');\n",
              "      quickchartButtonEl.disabled = true;  // To prevent multiple clicks.\n",
              "      quickchartButtonEl.classList.add('colab-df-spinner');\n",
              "      try {\n",
              "        const charts = await google.colab.kernel.invokeFunction(\n",
              "            'suggestCharts', [key], {});\n",
              "      } catch (error) {\n",
              "        console.error('Error during call to suggestCharts:', error);\n",
              "      }\n",
              "      quickchartButtonEl.classList.remove('colab-df-spinner');\n",
              "      quickchartButtonEl.classList.add('colab-df-quickchart-complete');\n",
              "    }\n",
              "    (() => {\n",
              "      let quickchartButtonEl =\n",
              "        document.querySelector('#df-a5465dea-d616-4d69-90cb-e3327f414588 button');\n",
              "      quickchartButtonEl.style.display =\n",
              "        google.colab.kernel.accessAllowed ? 'block' : 'none';\n",
              "    })();\n",
              "  </script>\n",
              "</div>\n",
              "    </div>\n",
              "  </div>\n"
            ]
          },
          "metadata": {},
          "execution_count": 14
        }
      ]
    },
    {
      "cell_type": "code",
      "source": [
        "import calendar\n",
        "\n",
        "# Definir el orden personalizado de los meses\n",
        "orden_meses = [calendar.month_name[i] for i in range(1, 13)]\n",
        "\n",
        "# Aplicar el orden personalizado a la columna 'Mes' en el DataFrame\n",
        "eventos_df['Mes'] = pd.Categorical(eventos_df['Mes'], categories=orden_meses, ordered=True)"
      ],
      "metadata": {
        "id": "EiS1isOxFQBq"
      },
      "execution_count": null,
      "outputs": []
    },
    {
      "cell_type": "code",
      "source": [
        "# Agrupar los eventos por Mes y Categoría y contar cuántos hay en cada categoría para cada mes\n",
        "conteo_eventos = eventos_df.groupby(['Mes', 'Categoria','Subcategoria']).size().reset_index(name='Conteo')\n",
        "\n",
        "# Crear un gráfico de barras apiladas\n",
        "fig = px.bar(conteo_eventos, x='Mes', y='Conteo', color='Categoria', title='Eventos Astronómicos por Mes y Categoría en 2023')\n",
        "\n",
        "# Mostrar el gráfico\n",
        "fig.show()"
      ],
      "metadata": {
        "colab": {
          "base_uri": "https://localhost:8080/",
          "height": 542
        },
        "id": "No1uOYx7Ei0g",
        "outputId": "b5164b1f-d784-479c-813c-86ba3200fd0e"
      },
      "execution_count": null,
      "outputs": [
        {
          "output_type": "display_data",
          "data": {
            "text/html": [
              "<html>\n",
              "<head><meta charset=\"utf-8\" /></head>\n",
              "<body>\n",
              "    <div>            <script src=\"https://cdnjs.cloudflare.com/ajax/libs/mathjax/2.7.5/MathJax.js?config=TeX-AMS-MML_SVG\"></script><script type=\"text/javascript\">if (window.MathJax && window.MathJax.Hub && window.MathJax.Hub.Config) {window.MathJax.Hub.Config({SVG: {font: \"STIX-Web\"}});}</script>                <script type=\"text/javascript\">window.PlotlyConfig = {MathJaxConfig: 'local'};</script>\n",
              "        <script charset=\"utf-8\" src=\"https://cdn.plot.ly/plotly-2.24.1.min.js\"></script>                <div id=\"77747d3b-6bdc-4279-a21d-4539daf1cbc7\" class=\"plotly-graph-div\" style=\"height:525px; width:100%;\"></div>            <script type=\"text/javascript\">                                    window.PLOTLYENV=window.PLOTLYENV || {};                                    if (document.getElementById(\"77747d3b-6bdc-4279-a21d-4539daf1cbc7\")) {                    Plotly.newPlot(                        \"77747d3b-6bdc-4279-a21d-4539daf1cbc7\",                        [{\"alignmentgroup\":\"True\",\"hovertemplate\":\"Categoria=Cometa\\u003cbr\\u003eMes=%{x}\\u003cbr\\u003eConteo=%{y}\\u003cextra\\u003e\\u003c\\u002fextra\\u003e\",\"legendgroup\":\"Cometa\",\"marker\":{\"color\":\"#636efa\",\"pattern\":{\"shape\":\"\"}},\"name\":\"Cometa\",\"offsetgroup\":\"Cometa\",\"orientation\":\"v\",\"showlegend\":true,\"textposition\":\"auto\",\"x\":[\"January\",\"January\",\"February\",\"February\",\"March\",\"March\",\"April\",\"April\",\"May\",\"May\",\"June\",\"June\",\"July\",\"July\",\"August\",\"August\",\"September\",\"September\",\"October\",\"October\",\"November\",\"November\",\"December\",\"December\"],\"xaxis\":\"x\",\"y\":[9,0,6,0,5,0,1,0,3,0,0,0,2,0,4,0,3,0,0,0,0,0,0,0],\"yaxis\":\"y\",\"type\":\"bar\"},{\"alignmentgroup\":\"True\",\"hovertemplate\":\"Categoria=Constelaci\\u00f3n\\u003cbr\\u003eMes=%{x}\\u003cbr\\u003eConteo=%{y}\\u003cextra\\u003e\\u003c\\u002fextra\\u003e\",\"legendgroup\":\"Constelaci\\u00f3n\",\"marker\":{\"color\":\"#EF553B\",\"pattern\":{\"shape\":\"\"}},\"name\":\"Constelaci\\u00f3n\",\"offsetgroup\":\"Constelaci\\u00f3n\",\"orientation\":\"v\",\"showlegend\":true,\"textposition\":\"auto\",\"x\":[\"January\",\"January\",\"February\",\"February\",\"March\",\"March\",\"April\",\"April\",\"May\",\"May\",\"June\",\"June\",\"July\",\"July\",\"August\",\"August\",\"September\",\"September\",\"October\",\"October\",\"November\",\"November\",\"December\",\"December\"],\"xaxis\":\"x\",\"y\":[0,0,0,0,1,0,1,0,0,0,0,0,0,0,1,0,0,0,0,0,0,0,0,0],\"yaxis\":\"y\",\"type\":\"bar\"},{\"alignmentgroup\":\"True\",\"hovertemplate\":\"Categoria=Eclipse\\u003cbr\\u003eMes=%{x}\\u003cbr\\u003eConteo=%{y}\\u003cextra\\u003e\\u003c\\u002fextra\\u003e\",\"legendgroup\":\"Eclipse\",\"marker\":{\"color\":\"#00cc96\",\"pattern\":{\"shape\":\"\"}},\"name\":\"Eclipse\",\"offsetgroup\":\"Eclipse\",\"orientation\":\"v\",\"showlegend\":true,\"textposition\":\"auto\",\"x\":[\"January\",\"January\",\"February\",\"February\",\"March\",\"March\",\"April\",\"April\",\"May\",\"May\",\"June\",\"June\",\"July\",\"July\",\"August\",\"August\",\"September\",\"September\",\"October\",\"October\",\"November\",\"November\",\"December\",\"December\"],\"xaxis\":\"x\",\"y\":[0,0,0,0,0,0,1,0,0,0,0,0,0,0,0,0,0,0,0,0,0,0,0,0],\"yaxis\":\"y\",\"type\":\"bar\"},{\"alignmentgroup\":\"True\",\"hovertemplate\":\"Categoria=Estacion\\u003cbr\\u003eMes=%{x}\\u003cbr\\u003eConteo=%{y}\\u003cextra\\u003e\\u003c\\u002fextra\\u003e\",\"legendgroup\":\"Estacion\",\"marker\":{\"color\":\"#ab63fa\",\"pattern\":{\"shape\":\"\"}},\"name\":\"Estacion\",\"offsetgroup\":\"Estacion\",\"orientation\":\"v\",\"showlegend\":true,\"textposition\":\"auto\",\"x\":[\"January\",\"January\",\"February\",\"February\",\"March\",\"March\",\"April\",\"April\",\"May\",\"May\",\"June\",\"June\",\"July\",\"July\",\"August\",\"August\",\"September\",\"September\",\"October\",\"October\",\"November\",\"November\",\"December\",\"December\"],\"xaxis\":\"x\",\"y\":[5,0,7,0,8,0,7,2,9,1,10,0,13,0,14,0,1,0,0,0,0,0,0,0],\"yaxis\":\"y\",\"type\":\"bar\"},{\"alignmentgroup\":\"True\",\"hovertemplate\":\"Categoria=Estrella\\u003cbr\\u003eMes=%{x}\\u003cbr\\u003eConteo=%{y}\\u003cextra\\u003e\\u003c\\u002fextra\\u003e\",\"legendgroup\":\"Estrella\",\"marker\":{\"color\":\"#FFA15A\",\"pattern\":{\"shape\":\"\"}},\"name\":\"Estrella\",\"offsetgroup\":\"Estrella\",\"orientation\":\"v\",\"showlegend\":true,\"textposition\":\"auto\",\"x\":[\"January\",\"January\",\"February\",\"February\",\"March\",\"March\",\"April\",\"April\",\"May\",\"May\",\"June\",\"June\",\"July\",\"July\",\"August\",\"August\",\"September\",\"September\",\"October\",\"October\",\"November\",\"November\",\"December\",\"December\"],\"xaxis\":\"x\",\"y\":[1,0,0,0,0,0,0,0,0,0,0,0,0,0,0,0,0,0,0,0,0,0,0,0],\"yaxis\":\"y\",\"type\":\"bar\"},{\"alignmentgroup\":\"True\",\"hovertemplate\":\"Categoria=Luna\\u003cbr\\u003eMes=%{x}\\u003cbr\\u003eConteo=%{y}\\u003cextra\\u003e\\u003c\\u002fextra\\u003e\",\"legendgroup\":\"Luna\",\"marker\":{\"color\":\"#19d3f3\",\"pattern\":{\"shape\":\"\"}},\"name\":\"Luna\",\"offsetgroup\":\"Luna\",\"orientation\":\"v\",\"showlegend\":true,\"textposition\":\"auto\",\"x\":[\"January\",\"January\",\"February\",\"February\",\"March\",\"March\",\"April\",\"April\",\"May\",\"May\",\"June\",\"June\",\"July\",\"July\",\"August\",\"August\",\"September\",\"September\",\"October\",\"October\",\"November\",\"November\",\"December\",\"December\"],\"xaxis\":\"x\",\"y\":[3,0,3,0,2,0,1,0,4,0,3,0,2,0,3,0,3,0,0,0,0,0,0,0],\"yaxis\":\"y\",\"type\":\"bar\"},{\"alignmentgroup\":\"True\",\"hovertemplate\":\"Categoria=Nebulosa\\u003cbr\\u003eMes=%{x}\\u003cbr\\u003eConteo=%{y}\\u003cextra\\u003e\\u003c\\u002fextra\\u003e\",\"legendgroup\":\"Nebulosa\",\"marker\":{\"color\":\"#FF6692\",\"pattern\":{\"shape\":\"\"}},\"name\":\"Nebulosa\",\"offsetgroup\":\"Nebulosa\",\"orientation\":\"v\",\"showlegend\":true,\"textposition\":\"auto\",\"x\":[\"January\",\"January\",\"February\",\"February\",\"March\",\"March\",\"April\",\"April\",\"May\",\"May\",\"June\",\"June\",\"July\",\"July\",\"August\",\"August\",\"September\",\"September\",\"October\",\"October\",\"November\",\"November\",\"December\",\"December\"],\"xaxis\":\"x\",\"y\":[10,0,8,0,12,0,14,0,11,0,9,0,11,0,5,0,4,0,0,0,0,0,0,0],\"yaxis\":\"y\",\"type\":\"bar\"},{\"alignmentgroup\":\"True\",\"hovertemplate\":\"Categoria=Otro\\u003cbr\\u003eMes=%{x}\\u003cbr\\u003eConteo=%{y}\\u003cextra\\u003e\\u003c\\u002fextra\\u003e\",\"legendgroup\":\"Otro\",\"marker\":{\"color\":\"#B6E880\",\"pattern\":{\"shape\":\"\"}},\"name\":\"Otro\",\"offsetgroup\":\"Otro\",\"orientation\":\"v\",\"showlegend\":true,\"textposition\":\"auto\",\"x\":[\"January\",\"January\",\"February\",\"February\",\"March\",\"March\",\"April\",\"April\",\"May\",\"May\",\"June\",\"June\",\"July\",\"July\",\"August\",\"August\",\"September\",\"September\",\"October\",\"October\",\"November\",\"November\",\"December\",\"December\"],\"xaxis\":\"x\",\"y\":[1,0,3,0,2,0,3,0,1,0,3,0,2,0,3,0,0,0,0,0,0,0,0,0],\"yaxis\":\"y\",\"type\":\"bar\"},{\"alignmentgroup\":\"True\",\"hovertemplate\":\"Categoria=Planeta\\u003cbr\\u003eMes=%{x}\\u003cbr\\u003eConteo=%{y}\\u003cextra\\u003e\\u003c\\u002fextra\\u003e\",\"legendgroup\":\"Planeta\",\"marker\":{\"color\":\"#FF97FF\",\"pattern\":{\"shape\":\"\"}},\"name\":\"Planeta\",\"offsetgroup\":\"Planeta\",\"orientation\":\"v\",\"showlegend\":true,\"textposition\":\"auto\",\"x\":[\"January\",\"January\",\"February\",\"February\",\"March\",\"March\",\"April\",\"April\",\"May\",\"May\",\"June\",\"June\",\"July\",\"July\",\"August\",\"August\",\"September\",\"September\",\"October\",\"October\",\"November\",\"November\",\"December\",\"December\"],\"xaxis\":\"x\",\"y\":[1,0,1,0,1,0,0,0,2,0,5,0,1,0,1,0,0,0,0,0,0,0,0,0],\"yaxis\":\"y\",\"type\":\"bar\"},{\"alignmentgroup\":\"True\",\"hovertemplate\":\"Categoria=Supernova\\u003cbr\\u003eMes=%{x}\\u003cbr\\u003eConteo=%{y}\\u003cextra\\u003e\\u003c\\u002fextra\\u003e\",\"legendgroup\":\"Supernova\",\"marker\":{\"color\":\"#FECB52\",\"pattern\":{\"shape\":\"\"}},\"name\":\"Supernova\",\"offsetgroup\":\"Supernova\",\"orientation\":\"v\",\"showlegend\":true,\"textposition\":\"auto\",\"x\":[\"January\",\"January\",\"February\",\"February\",\"March\",\"March\",\"April\",\"April\",\"May\",\"May\",\"June\",\"June\",\"July\",\"July\",\"August\",\"August\",\"September\",\"September\",\"October\",\"October\",\"November\",\"November\",\"December\",\"December\"],\"xaxis\":\"x\",\"y\":[1,0,0,0,0,0,0,0,0,0,0,0,0,0,0,0,0,0,0,0,0,0,0,0],\"yaxis\":\"y\",\"type\":\"bar\"}],                        {\"template\":{\"data\":{\"histogram2dcontour\":[{\"type\":\"histogram2dcontour\",\"colorbar\":{\"outlinewidth\":0,\"ticks\":\"\"},\"colorscale\":[[0.0,\"#0d0887\"],[0.1111111111111111,\"#46039f\"],[0.2222222222222222,\"#7201a8\"],[0.3333333333333333,\"#9c179e\"],[0.4444444444444444,\"#bd3786\"],[0.5555555555555556,\"#d8576b\"],[0.6666666666666666,\"#ed7953\"],[0.7777777777777778,\"#fb9f3a\"],[0.8888888888888888,\"#fdca26\"],[1.0,\"#f0f921\"]]}],\"choropleth\":[{\"type\":\"choropleth\",\"colorbar\":{\"outlinewidth\":0,\"ticks\":\"\"}}],\"histogram2d\":[{\"type\":\"histogram2d\",\"colorbar\":{\"outlinewidth\":0,\"ticks\":\"\"},\"colorscale\":[[0.0,\"#0d0887\"],[0.1111111111111111,\"#46039f\"],[0.2222222222222222,\"#7201a8\"],[0.3333333333333333,\"#9c179e\"],[0.4444444444444444,\"#bd3786\"],[0.5555555555555556,\"#d8576b\"],[0.6666666666666666,\"#ed7953\"],[0.7777777777777778,\"#fb9f3a\"],[0.8888888888888888,\"#fdca26\"],[1.0,\"#f0f921\"]]}],\"heatmap\":[{\"type\":\"heatmap\",\"colorbar\":{\"outlinewidth\":0,\"ticks\":\"\"},\"colorscale\":[[0.0,\"#0d0887\"],[0.1111111111111111,\"#46039f\"],[0.2222222222222222,\"#7201a8\"],[0.3333333333333333,\"#9c179e\"],[0.4444444444444444,\"#bd3786\"],[0.5555555555555556,\"#d8576b\"],[0.6666666666666666,\"#ed7953\"],[0.7777777777777778,\"#fb9f3a\"],[0.8888888888888888,\"#fdca26\"],[1.0,\"#f0f921\"]]}],\"heatmapgl\":[{\"type\":\"heatmapgl\",\"colorbar\":{\"outlinewidth\":0,\"ticks\":\"\"},\"colorscale\":[[0.0,\"#0d0887\"],[0.1111111111111111,\"#46039f\"],[0.2222222222222222,\"#7201a8\"],[0.3333333333333333,\"#9c179e\"],[0.4444444444444444,\"#bd3786\"],[0.5555555555555556,\"#d8576b\"],[0.6666666666666666,\"#ed7953\"],[0.7777777777777778,\"#fb9f3a\"],[0.8888888888888888,\"#fdca26\"],[1.0,\"#f0f921\"]]}],\"contourcarpet\":[{\"type\":\"contourcarpet\",\"colorbar\":{\"outlinewidth\":0,\"ticks\":\"\"}}],\"contour\":[{\"type\":\"contour\",\"colorbar\":{\"outlinewidth\":0,\"ticks\":\"\"},\"colorscale\":[[0.0,\"#0d0887\"],[0.1111111111111111,\"#46039f\"],[0.2222222222222222,\"#7201a8\"],[0.3333333333333333,\"#9c179e\"],[0.4444444444444444,\"#bd3786\"],[0.5555555555555556,\"#d8576b\"],[0.6666666666666666,\"#ed7953\"],[0.7777777777777778,\"#fb9f3a\"],[0.8888888888888888,\"#fdca26\"],[1.0,\"#f0f921\"]]}],\"surface\":[{\"type\":\"surface\",\"colorbar\":{\"outlinewidth\":0,\"ticks\":\"\"},\"colorscale\":[[0.0,\"#0d0887\"],[0.1111111111111111,\"#46039f\"],[0.2222222222222222,\"#7201a8\"],[0.3333333333333333,\"#9c179e\"],[0.4444444444444444,\"#bd3786\"],[0.5555555555555556,\"#d8576b\"],[0.6666666666666666,\"#ed7953\"],[0.7777777777777778,\"#fb9f3a\"],[0.8888888888888888,\"#fdca26\"],[1.0,\"#f0f921\"]]}],\"mesh3d\":[{\"type\":\"mesh3d\",\"colorbar\":{\"outlinewidth\":0,\"ticks\":\"\"}}],\"scatter\":[{\"fillpattern\":{\"fillmode\":\"overlay\",\"size\":10,\"solidity\":0.2},\"type\":\"scatter\"}],\"parcoords\":[{\"type\":\"parcoords\",\"line\":{\"colorbar\":{\"outlinewidth\":0,\"ticks\":\"\"}}}],\"scatterpolargl\":[{\"type\":\"scatterpolargl\",\"marker\":{\"colorbar\":{\"outlinewidth\":0,\"ticks\":\"\"}}}],\"bar\":[{\"error_x\":{\"color\":\"#2a3f5f\"},\"error_y\":{\"color\":\"#2a3f5f\"},\"marker\":{\"line\":{\"color\":\"#E5ECF6\",\"width\":0.5},\"pattern\":{\"fillmode\":\"overlay\",\"size\":10,\"solidity\":0.2}},\"type\":\"bar\"}],\"scattergeo\":[{\"type\":\"scattergeo\",\"marker\":{\"colorbar\":{\"outlinewidth\":0,\"ticks\":\"\"}}}],\"scatterpolar\":[{\"type\":\"scatterpolar\",\"marker\":{\"colorbar\":{\"outlinewidth\":0,\"ticks\":\"\"}}}],\"histogram\":[{\"marker\":{\"pattern\":{\"fillmode\":\"overlay\",\"size\":10,\"solidity\":0.2}},\"type\":\"histogram\"}],\"scattergl\":[{\"type\":\"scattergl\",\"marker\":{\"colorbar\":{\"outlinewidth\":0,\"ticks\":\"\"}}}],\"scatter3d\":[{\"type\":\"scatter3d\",\"line\":{\"colorbar\":{\"outlinewidth\":0,\"ticks\":\"\"}},\"marker\":{\"colorbar\":{\"outlinewidth\":0,\"ticks\":\"\"}}}],\"scattermapbox\":[{\"type\":\"scattermapbox\",\"marker\":{\"colorbar\":{\"outlinewidth\":0,\"ticks\":\"\"}}}],\"scatterternary\":[{\"type\":\"scatterternary\",\"marker\":{\"colorbar\":{\"outlinewidth\":0,\"ticks\":\"\"}}}],\"scattercarpet\":[{\"type\":\"scattercarpet\",\"marker\":{\"colorbar\":{\"outlinewidth\":0,\"ticks\":\"\"}}}],\"carpet\":[{\"aaxis\":{\"endlinecolor\":\"#2a3f5f\",\"gridcolor\":\"white\",\"linecolor\":\"white\",\"minorgridcolor\":\"white\",\"startlinecolor\":\"#2a3f5f\"},\"baxis\":{\"endlinecolor\":\"#2a3f5f\",\"gridcolor\":\"white\",\"linecolor\":\"white\",\"minorgridcolor\":\"white\",\"startlinecolor\":\"#2a3f5f\"},\"type\":\"carpet\"}],\"table\":[{\"cells\":{\"fill\":{\"color\":\"#EBF0F8\"},\"line\":{\"color\":\"white\"}},\"header\":{\"fill\":{\"color\":\"#C8D4E3\"},\"line\":{\"color\":\"white\"}},\"type\":\"table\"}],\"barpolar\":[{\"marker\":{\"line\":{\"color\":\"#E5ECF6\",\"width\":0.5},\"pattern\":{\"fillmode\":\"overlay\",\"size\":10,\"solidity\":0.2}},\"type\":\"barpolar\"}],\"pie\":[{\"automargin\":true,\"type\":\"pie\"}]},\"layout\":{\"autotypenumbers\":\"strict\",\"colorway\":[\"#636efa\",\"#EF553B\",\"#00cc96\",\"#ab63fa\",\"#FFA15A\",\"#19d3f3\",\"#FF6692\",\"#B6E880\",\"#FF97FF\",\"#FECB52\"],\"font\":{\"color\":\"#2a3f5f\"},\"hovermode\":\"closest\",\"hoverlabel\":{\"align\":\"left\"},\"paper_bgcolor\":\"white\",\"plot_bgcolor\":\"#E5ECF6\",\"polar\":{\"bgcolor\":\"#E5ECF6\",\"angularaxis\":{\"gridcolor\":\"white\",\"linecolor\":\"white\",\"ticks\":\"\"},\"radialaxis\":{\"gridcolor\":\"white\",\"linecolor\":\"white\",\"ticks\":\"\"}},\"ternary\":{\"bgcolor\":\"#E5ECF6\",\"aaxis\":{\"gridcolor\":\"white\",\"linecolor\":\"white\",\"ticks\":\"\"},\"baxis\":{\"gridcolor\":\"white\",\"linecolor\":\"white\",\"ticks\":\"\"},\"caxis\":{\"gridcolor\":\"white\",\"linecolor\":\"white\",\"ticks\":\"\"}},\"coloraxis\":{\"colorbar\":{\"outlinewidth\":0,\"ticks\":\"\"}},\"colorscale\":{\"sequential\":[[0.0,\"#0d0887\"],[0.1111111111111111,\"#46039f\"],[0.2222222222222222,\"#7201a8\"],[0.3333333333333333,\"#9c179e\"],[0.4444444444444444,\"#bd3786\"],[0.5555555555555556,\"#d8576b\"],[0.6666666666666666,\"#ed7953\"],[0.7777777777777778,\"#fb9f3a\"],[0.8888888888888888,\"#fdca26\"],[1.0,\"#f0f921\"]],\"sequentialminus\":[[0.0,\"#0d0887\"],[0.1111111111111111,\"#46039f\"],[0.2222222222222222,\"#7201a8\"],[0.3333333333333333,\"#9c179e\"],[0.4444444444444444,\"#bd3786\"],[0.5555555555555556,\"#d8576b\"],[0.6666666666666666,\"#ed7953\"],[0.7777777777777778,\"#fb9f3a\"],[0.8888888888888888,\"#fdca26\"],[1.0,\"#f0f921\"]],\"diverging\":[[0,\"#8e0152\"],[0.1,\"#c51b7d\"],[0.2,\"#de77ae\"],[0.3,\"#f1b6da\"],[0.4,\"#fde0ef\"],[0.5,\"#f7f7f7\"],[0.6,\"#e6f5d0\"],[0.7,\"#b8e186\"],[0.8,\"#7fbc41\"],[0.9,\"#4d9221\"],[1,\"#276419\"]]},\"xaxis\":{\"gridcolor\":\"white\",\"linecolor\":\"white\",\"ticks\":\"\",\"title\":{\"standoff\":15},\"zerolinecolor\":\"white\",\"automargin\":true,\"zerolinewidth\":2},\"yaxis\":{\"gridcolor\":\"white\",\"linecolor\":\"white\",\"ticks\":\"\",\"title\":{\"standoff\":15},\"zerolinecolor\":\"white\",\"automargin\":true,\"zerolinewidth\":2},\"scene\":{\"xaxis\":{\"backgroundcolor\":\"#E5ECF6\",\"gridcolor\":\"white\",\"linecolor\":\"white\",\"showbackground\":true,\"ticks\":\"\",\"zerolinecolor\":\"white\",\"gridwidth\":2},\"yaxis\":{\"backgroundcolor\":\"#E5ECF6\",\"gridcolor\":\"white\",\"linecolor\":\"white\",\"showbackground\":true,\"ticks\":\"\",\"zerolinecolor\":\"white\",\"gridwidth\":2},\"zaxis\":{\"backgroundcolor\":\"#E5ECF6\",\"gridcolor\":\"white\",\"linecolor\":\"white\",\"showbackground\":true,\"ticks\":\"\",\"zerolinecolor\":\"white\",\"gridwidth\":2}},\"shapedefaults\":{\"line\":{\"color\":\"#2a3f5f\"}},\"annotationdefaults\":{\"arrowcolor\":\"#2a3f5f\",\"arrowhead\":0,\"arrowwidth\":1},\"geo\":{\"bgcolor\":\"white\",\"landcolor\":\"#E5ECF6\",\"subunitcolor\":\"white\",\"showland\":true,\"showlakes\":true,\"lakecolor\":\"white\"},\"title\":{\"x\":0.05},\"mapbox\":{\"style\":\"light\"}}},\"xaxis\":{\"anchor\":\"y\",\"domain\":[0.0,1.0],\"title\":{\"text\":\"Mes\"}},\"yaxis\":{\"anchor\":\"x\",\"domain\":[0.0,1.0],\"title\":{\"text\":\"Conteo\"}},\"legend\":{\"title\":{\"text\":\"Categoria\"},\"tracegroupgap\":0},\"title\":{\"text\":\"Eventos Astron\\u00f3micos por Mes y Categor\\u00eda en 2023\"},\"barmode\":\"relative\"},                        {\"responsive\": true}                    ).then(function(){\n",
              "                            \n",
              "var gd = document.getElementById('77747d3b-6bdc-4279-a21d-4539daf1cbc7');\n",
              "var x = new MutationObserver(function (mutations, observer) {{\n",
              "        var display = window.getComputedStyle(gd).display;\n",
              "        if (!display || display === 'none') {{\n",
              "            console.log([gd, 'removed!']);\n",
              "            Plotly.purge(gd);\n",
              "            observer.disconnect();\n",
              "        }}\n",
              "}});\n",
              "\n",
              "// Listen for the removal of the full notebook cells\n",
              "var notebookContainer = gd.closest('#notebook-container');\n",
              "if (notebookContainer) {{\n",
              "    x.observe(notebookContainer, {childList: true});\n",
              "}}\n",
              "\n",
              "// Listen for the clearing of the current output cell\n",
              "var outputEl = gd.closest('.output');\n",
              "if (outputEl) {{\n",
              "    x.observe(outputEl, {childList: true});\n",
              "}}\n",
              "\n",
              "                        })                };                            </script>        </div>\n",
              "</body>\n",
              "</html>"
            ]
          },
          "metadata": {}
        }
      ]
    },
    {
      "cell_type": "code",
      "source": [
        "# Crear un gráfico de barras apiladas con subcategoría\n",
        "fig = px.bar(conteo_eventos.loc[conteo_eventos['Subcategoria'] != \"N/A\"], x='Subcategoria', y='Conteo', color='Mes',\n",
        "             title='Distribución de Eventos Astronómicos por Categoría y Subcategoría en 2023',\n",
        "             labels={'Categoria': 'Categoría', 'Conteo': 'Número de Eventos'})\n",
        "\n",
        "# Mostrar el gráfico\n",
        "fig.show()"
      ],
      "metadata": {
        "colab": {
          "base_uri": "https://localhost:8080/",
          "height": 542
        },
        "id": "2qMIRKaUGZsn",
        "outputId": "a78f3027-dc6d-46dc-ac0f-231875fe6a7f"
      },
      "execution_count": null,
      "outputs": [
        {
          "output_type": "display_data",
          "data": {
            "text/html": [
              "<html>\n",
              "<head><meta charset=\"utf-8\" /></head>\n",
              "<body>\n",
              "    <div>            <script src=\"https://cdnjs.cloudflare.com/ajax/libs/mathjax/2.7.5/MathJax.js?config=TeX-AMS-MML_SVG\"></script><script type=\"text/javascript\">if (window.MathJax && window.MathJax.Hub && window.MathJax.Hub.Config) {window.MathJax.Hub.Config({SVG: {font: \"STIX-Web\"}});}</script>                <script type=\"text/javascript\">window.PlotlyConfig = {MathJaxConfig: 'local'};</script>\n",
              "        <script charset=\"utf-8\" src=\"https://cdn.plot.ly/plotly-2.24.1.min.js\"></script>                <div id=\"655434fa-b8f2-4be7-a2c6-2fa8a772f62d\" class=\"plotly-graph-div\" style=\"height:525px; width:100%;\"></div>            <script type=\"text/javascript\">                                    window.PLOTLYENV=window.PLOTLYENV || {};                                    if (document.getElementById(\"655434fa-b8f2-4be7-a2c6-2fa8a772f62d\")) {                    Plotly.newPlot(                        \"655434fa-b8f2-4be7-a2c6-2fa8a772f62d\",                        [{\"alignmentgroup\":\"True\",\"hovertemplate\":\"Mes=January\\u003cbr\\u003eSubcategoria=%{x}\\u003cbr\\u003eN\\u00famero de Eventos=%{y}\\u003cextra\\u003e\\u003c\\u002fextra\\u003e\",\"legendgroup\":\"January\",\"marker\":{\"color\":\"#636efa\",\"pattern\":{\"shape\":\"\"}},\"name\":\"January\",\"offsetgroup\":\"January\",\"orientation\":\"v\",\"showlegend\":true,\"textposition\":\"auto\",\"x\":[\"Solar\",\"Solar\",\"Solar\",\"Solar\",\"Solar\",\"Solar\",\"Solar\",\"Solar\",\"Solar\",\"Solar\"],\"xaxis\":\"x\",\"y\":[0,0,0,0,0,0,0,0,0,0],\"yaxis\":\"y\",\"type\":\"bar\"},{\"alignmentgroup\":\"True\",\"hovertemplate\":\"Mes=February\\u003cbr\\u003eSubcategoria=%{x}\\u003cbr\\u003eN\\u00famero de Eventos=%{y}\\u003cextra\\u003e\\u003c\\u002fextra\\u003e\",\"legendgroup\":\"February\",\"marker\":{\"color\":\"#EF553B\",\"pattern\":{\"shape\":\"\"}},\"name\":\"February\",\"offsetgroup\":\"February\",\"orientation\":\"v\",\"showlegend\":true,\"textposition\":\"auto\",\"x\":[\"Solar\",\"Solar\",\"Solar\",\"Solar\",\"Solar\",\"Solar\",\"Solar\",\"Solar\",\"Solar\",\"Solar\"],\"xaxis\":\"x\",\"y\":[0,0,0,0,0,0,0,0,0,0],\"yaxis\":\"y\",\"type\":\"bar\"},{\"alignmentgroup\":\"True\",\"hovertemplate\":\"Mes=March\\u003cbr\\u003eSubcategoria=%{x}\\u003cbr\\u003eN\\u00famero de Eventos=%{y}\\u003cextra\\u003e\\u003c\\u002fextra\\u003e\",\"legendgroup\":\"March\",\"marker\":{\"color\":\"#00cc96\",\"pattern\":{\"shape\":\"\"}},\"name\":\"March\",\"offsetgroup\":\"March\",\"orientation\":\"v\",\"showlegend\":true,\"textposition\":\"auto\",\"x\":[\"Solar\",\"Solar\",\"Solar\",\"Solar\",\"Solar\",\"Solar\",\"Solar\",\"Solar\",\"Solar\",\"Solar\"],\"xaxis\":\"x\",\"y\":[0,0,0,0,0,0,0,0,0,0],\"yaxis\":\"y\",\"type\":\"bar\"},{\"alignmentgroup\":\"True\",\"hovertemplate\":\"Mes=April\\u003cbr\\u003eSubcategoria=%{x}\\u003cbr\\u003eN\\u00famero de Eventos=%{y}\\u003cextra\\u003e\\u003c\\u002fextra\\u003e\",\"legendgroup\":\"April\",\"marker\":{\"color\":\"#ab63fa\",\"pattern\":{\"shape\":\"\"}},\"name\":\"April\",\"offsetgroup\":\"April\",\"orientation\":\"v\",\"showlegend\":true,\"textposition\":\"auto\",\"x\":[\"Solar\",\"Solar\",\"Solar\",\"Solar\",\"Solar\",\"Solar\",\"Solar\",\"Solar\",\"Solar\",\"Solar\"],\"xaxis\":\"x\",\"y\":[0,0,0,2,0,0,0,0,0,0],\"yaxis\":\"y\",\"type\":\"bar\"},{\"alignmentgroup\":\"True\",\"hovertemplate\":\"Mes=May\\u003cbr\\u003eSubcategoria=%{x}\\u003cbr\\u003eN\\u00famero de Eventos=%{y}\\u003cextra\\u003e\\u003c\\u002fextra\\u003e\",\"legendgroup\":\"May\",\"marker\":{\"color\":\"#FFA15A\",\"pattern\":{\"shape\":\"\"}},\"name\":\"May\",\"offsetgroup\":\"May\",\"orientation\":\"v\",\"showlegend\":true,\"textposition\":\"auto\",\"x\":[\"Solar\",\"Solar\",\"Solar\",\"Solar\",\"Solar\",\"Solar\",\"Solar\",\"Solar\",\"Solar\",\"Solar\"],\"xaxis\":\"x\",\"y\":[0,0,0,1,0,0,0,0,0,0],\"yaxis\":\"y\",\"type\":\"bar\"},{\"alignmentgroup\":\"True\",\"hovertemplate\":\"Mes=June\\u003cbr\\u003eSubcategoria=%{x}\\u003cbr\\u003eN\\u00famero de Eventos=%{y}\\u003cextra\\u003e\\u003c\\u002fextra\\u003e\",\"legendgroup\":\"June\",\"marker\":{\"color\":\"#19d3f3\",\"pattern\":{\"shape\":\"\"}},\"name\":\"June\",\"offsetgroup\":\"June\",\"orientation\":\"v\",\"showlegend\":true,\"textposition\":\"auto\",\"x\":[\"Solar\",\"Solar\",\"Solar\",\"Solar\",\"Solar\",\"Solar\",\"Solar\",\"Solar\",\"Solar\",\"Solar\"],\"xaxis\":\"x\",\"y\":[0,0,0,0,0,0,0,0,0,0],\"yaxis\":\"y\",\"type\":\"bar\"},{\"alignmentgroup\":\"True\",\"hovertemplate\":\"Mes=July\\u003cbr\\u003eSubcategoria=%{x}\\u003cbr\\u003eN\\u00famero de Eventos=%{y}\\u003cextra\\u003e\\u003c\\u002fextra\\u003e\",\"legendgroup\":\"July\",\"marker\":{\"color\":\"#FF6692\",\"pattern\":{\"shape\":\"\"}},\"name\":\"July\",\"offsetgroup\":\"July\",\"orientation\":\"v\",\"showlegend\":true,\"textposition\":\"auto\",\"x\":[\"Solar\",\"Solar\",\"Solar\",\"Solar\",\"Solar\",\"Solar\",\"Solar\",\"Solar\",\"Solar\",\"Solar\"],\"xaxis\":\"x\",\"y\":[0,0,0,0,0,0,0,0,0,0],\"yaxis\":\"y\",\"type\":\"bar\"},{\"alignmentgroup\":\"True\",\"hovertemplate\":\"Mes=August\\u003cbr\\u003eSubcategoria=%{x}\\u003cbr\\u003eN\\u00famero de Eventos=%{y}\\u003cextra\\u003e\\u003c\\u002fextra\\u003e\",\"legendgroup\":\"August\",\"marker\":{\"color\":\"#B6E880\",\"pattern\":{\"shape\":\"\"}},\"name\":\"August\",\"offsetgroup\":\"August\",\"orientation\":\"v\",\"showlegend\":true,\"textposition\":\"auto\",\"x\":[\"Solar\",\"Solar\",\"Solar\",\"Solar\",\"Solar\",\"Solar\",\"Solar\",\"Solar\",\"Solar\",\"Solar\"],\"xaxis\":\"x\",\"y\":[0,0,0,0,0,0,0,0,0,0],\"yaxis\":\"y\",\"type\":\"bar\"},{\"alignmentgroup\":\"True\",\"hovertemplate\":\"Mes=September\\u003cbr\\u003eSubcategoria=%{x}\\u003cbr\\u003eN\\u00famero de Eventos=%{y}\\u003cextra\\u003e\\u003c\\u002fextra\\u003e\",\"legendgroup\":\"September\",\"marker\":{\"color\":\"#FF97FF\",\"pattern\":{\"shape\":\"\"}},\"name\":\"September\",\"offsetgroup\":\"September\",\"orientation\":\"v\",\"showlegend\":true,\"textposition\":\"auto\",\"x\":[\"Solar\",\"Solar\",\"Solar\",\"Solar\",\"Solar\",\"Solar\",\"Solar\",\"Solar\",\"Solar\",\"Solar\"],\"xaxis\":\"x\",\"y\":[0,0,0,0,0,0,0,0,0,0],\"yaxis\":\"y\",\"type\":\"bar\"},{\"alignmentgroup\":\"True\",\"hovertemplate\":\"Mes=October\\u003cbr\\u003eSubcategoria=%{x}\\u003cbr\\u003eN\\u00famero de Eventos=%{y}\\u003cextra\\u003e\\u003c\\u002fextra\\u003e\",\"legendgroup\":\"October\",\"marker\":{\"color\":\"#FECB52\",\"pattern\":{\"shape\":\"\"}},\"name\":\"October\",\"offsetgroup\":\"October\",\"orientation\":\"v\",\"showlegend\":true,\"textposition\":\"auto\",\"x\":[\"Solar\",\"Solar\",\"Solar\",\"Solar\",\"Solar\",\"Solar\",\"Solar\",\"Solar\",\"Solar\",\"Solar\"],\"xaxis\":\"x\",\"y\":[0,0,0,0,0,0,0,0,0,0],\"yaxis\":\"y\",\"type\":\"bar\"},{\"alignmentgroup\":\"True\",\"hovertemplate\":\"Mes=November\\u003cbr\\u003eSubcategoria=%{x}\\u003cbr\\u003eN\\u00famero de Eventos=%{y}\\u003cextra\\u003e\\u003c\\u002fextra\\u003e\",\"legendgroup\":\"November\",\"marker\":{\"color\":\"#636efa\",\"pattern\":{\"shape\":\"\"}},\"name\":\"November\",\"offsetgroup\":\"November\",\"orientation\":\"v\",\"showlegend\":true,\"textposition\":\"auto\",\"x\":[\"Solar\",\"Solar\",\"Solar\",\"Solar\",\"Solar\",\"Solar\",\"Solar\",\"Solar\",\"Solar\",\"Solar\"],\"xaxis\":\"x\",\"y\":[0,0,0,0,0,0,0,0,0,0],\"yaxis\":\"y\",\"type\":\"bar\"},{\"alignmentgroup\":\"True\",\"hovertemplate\":\"Mes=December\\u003cbr\\u003eSubcategoria=%{x}\\u003cbr\\u003eN\\u00famero de Eventos=%{y}\\u003cextra\\u003e\\u003c\\u002fextra\\u003e\",\"legendgroup\":\"December\",\"marker\":{\"color\":\"#EF553B\",\"pattern\":{\"shape\":\"\"}},\"name\":\"December\",\"offsetgroup\":\"December\",\"orientation\":\"v\",\"showlegend\":true,\"textposition\":\"auto\",\"x\":[\"Solar\",\"Solar\",\"Solar\",\"Solar\",\"Solar\",\"Solar\",\"Solar\",\"Solar\",\"Solar\",\"Solar\"],\"xaxis\":\"x\",\"y\":[0,0,0,0,0,0,0,0,0,0],\"yaxis\":\"y\",\"type\":\"bar\"}],                        {\"template\":{\"data\":{\"histogram2dcontour\":[{\"type\":\"histogram2dcontour\",\"colorbar\":{\"outlinewidth\":0,\"ticks\":\"\"},\"colorscale\":[[0.0,\"#0d0887\"],[0.1111111111111111,\"#46039f\"],[0.2222222222222222,\"#7201a8\"],[0.3333333333333333,\"#9c179e\"],[0.4444444444444444,\"#bd3786\"],[0.5555555555555556,\"#d8576b\"],[0.6666666666666666,\"#ed7953\"],[0.7777777777777778,\"#fb9f3a\"],[0.8888888888888888,\"#fdca26\"],[1.0,\"#f0f921\"]]}],\"choropleth\":[{\"type\":\"choropleth\",\"colorbar\":{\"outlinewidth\":0,\"ticks\":\"\"}}],\"histogram2d\":[{\"type\":\"histogram2d\",\"colorbar\":{\"outlinewidth\":0,\"ticks\":\"\"},\"colorscale\":[[0.0,\"#0d0887\"],[0.1111111111111111,\"#46039f\"],[0.2222222222222222,\"#7201a8\"],[0.3333333333333333,\"#9c179e\"],[0.4444444444444444,\"#bd3786\"],[0.5555555555555556,\"#d8576b\"],[0.6666666666666666,\"#ed7953\"],[0.7777777777777778,\"#fb9f3a\"],[0.8888888888888888,\"#fdca26\"],[1.0,\"#f0f921\"]]}],\"heatmap\":[{\"type\":\"heatmap\",\"colorbar\":{\"outlinewidth\":0,\"ticks\":\"\"},\"colorscale\":[[0.0,\"#0d0887\"],[0.1111111111111111,\"#46039f\"],[0.2222222222222222,\"#7201a8\"],[0.3333333333333333,\"#9c179e\"],[0.4444444444444444,\"#bd3786\"],[0.5555555555555556,\"#d8576b\"],[0.6666666666666666,\"#ed7953\"],[0.7777777777777778,\"#fb9f3a\"],[0.8888888888888888,\"#fdca26\"],[1.0,\"#f0f921\"]]}],\"heatmapgl\":[{\"type\":\"heatmapgl\",\"colorbar\":{\"outlinewidth\":0,\"ticks\":\"\"},\"colorscale\":[[0.0,\"#0d0887\"],[0.1111111111111111,\"#46039f\"],[0.2222222222222222,\"#7201a8\"],[0.3333333333333333,\"#9c179e\"],[0.4444444444444444,\"#bd3786\"],[0.5555555555555556,\"#d8576b\"],[0.6666666666666666,\"#ed7953\"],[0.7777777777777778,\"#fb9f3a\"],[0.8888888888888888,\"#fdca26\"],[1.0,\"#f0f921\"]]}],\"contourcarpet\":[{\"type\":\"contourcarpet\",\"colorbar\":{\"outlinewidth\":0,\"ticks\":\"\"}}],\"contour\":[{\"type\":\"contour\",\"colorbar\":{\"outlinewidth\":0,\"ticks\":\"\"},\"colorscale\":[[0.0,\"#0d0887\"],[0.1111111111111111,\"#46039f\"],[0.2222222222222222,\"#7201a8\"],[0.3333333333333333,\"#9c179e\"],[0.4444444444444444,\"#bd3786\"],[0.5555555555555556,\"#d8576b\"],[0.6666666666666666,\"#ed7953\"],[0.7777777777777778,\"#fb9f3a\"],[0.8888888888888888,\"#fdca26\"],[1.0,\"#f0f921\"]]}],\"surface\":[{\"type\":\"surface\",\"colorbar\":{\"outlinewidth\":0,\"ticks\":\"\"},\"colorscale\":[[0.0,\"#0d0887\"],[0.1111111111111111,\"#46039f\"],[0.2222222222222222,\"#7201a8\"],[0.3333333333333333,\"#9c179e\"],[0.4444444444444444,\"#bd3786\"],[0.5555555555555556,\"#d8576b\"],[0.6666666666666666,\"#ed7953\"],[0.7777777777777778,\"#fb9f3a\"],[0.8888888888888888,\"#fdca26\"],[1.0,\"#f0f921\"]]}],\"mesh3d\":[{\"type\":\"mesh3d\",\"colorbar\":{\"outlinewidth\":0,\"ticks\":\"\"}}],\"scatter\":[{\"fillpattern\":{\"fillmode\":\"overlay\",\"size\":10,\"solidity\":0.2},\"type\":\"scatter\"}],\"parcoords\":[{\"type\":\"parcoords\",\"line\":{\"colorbar\":{\"outlinewidth\":0,\"ticks\":\"\"}}}],\"scatterpolargl\":[{\"type\":\"scatterpolargl\",\"marker\":{\"colorbar\":{\"outlinewidth\":0,\"ticks\":\"\"}}}],\"bar\":[{\"error_x\":{\"color\":\"#2a3f5f\"},\"error_y\":{\"color\":\"#2a3f5f\"},\"marker\":{\"line\":{\"color\":\"#E5ECF6\",\"width\":0.5},\"pattern\":{\"fillmode\":\"overlay\",\"size\":10,\"solidity\":0.2}},\"type\":\"bar\"}],\"scattergeo\":[{\"type\":\"scattergeo\",\"marker\":{\"colorbar\":{\"outlinewidth\":0,\"ticks\":\"\"}}}],\"scatterpolar\":[{\"type\":\"scatterpolar\",\"marker\":{\"colorbar\":{\"outlinewidth\":0,\"ticks\":\"\"}}}],\"histogram\":[{\"marker\":{\"pattern\":{\"fillmode\":\"overlay\",\"size\":10,\"solidity\":0.2}},\"type\":\"histogram\"}],\"scattergl\":[{\"type\":\"scattergl\",\"marker\":{\"colorbar\":{\"outlinewidth\":0,\"ticks\":\"\"}}}],\"scatter3d\":[{\"type\":\"scatter3d\",\"line\":{\"colorbar\":{\"outlinewidth\":0,\"ticks\":\"\"}},\"marker\":{\"colorbar\":{\"outlinewidth\":0,\"ticks\":\"\"}}}],\"scattermapbox\":[{\"type\":\"scattermapbox\",\"marker\":{\"colorbar\":{\"outlinewidth\":0,\"ticks\":\"\"}}}],\"scatterternary\":[{\"type\":\"scatterternary\",\"marker\":{\"colorbar\":{\"outlinewidth\":0,\"ticks\":\"\"}}}],\"scattercarpet\":[{\"type\":\"scattercarpet\",\"marker\":{\"colorbar\":{\"outlinewidth\":0,\"ticks\":\"\"}}}],\"carpet\":[{\"aaxis\":{\"endlinecolor\":\"#2a3f5f\",\"gridcolor\":\"white\",\"linecolor\":\"white\",\"minorgridcolor\":\"white\",\"startlinecolor\":\"#2a3f5f\"},\"baxis\":{\"endlinecolor\":\"#2a3f5f\",\"gridcolor\":\"white\",\"linecolor\":\"white\",\"minorgridcolor\":\"white\",\"startlinecolor\":\"#2a3f5f\"},\"type\":\"carpet\"}],\"table\":[{\"cells\":{\"fill\":{\"color\":\"#EBF0F8\"},\"line\":{\"color\":\"white\"}},\"header\":{\"fill\":{\"color\":\"#C8D4E3\"},\"line\":{\"color\":\"white\"}},\"type\":\"table\"}],\"barpolar\":[{\"marker\":{\"line\":{\"color\":\"#E5ECF6\",\"width\":0.5},\"pattern\":{\"fillmode\":\"overlay\",\"size\":10,\"solidity\":0.2}},\"type\":\"barpolar\"}],\"pie\":[{\"automargin\":true,\"type\":\"pie\"}]},\"layout\":{\"autotypenumbers\":\"strict\",\"colorway\":[\"#636efa\",\"#EF553B\",\"#00cc96\",\"#ab63fa\",\"#FFA15A\",\"#19d3f3\",\"#FF6692\",\"#B6E880\",\"#FF97FF\",\"#FECB52\"],\"font\":{\"color\":\"#2a3f5f\"},\"hovermode\":\"closest\",\"hoverlabel\":{\"align\":\"left\"},\"paper_bgcolor\":\"white\",\"plot_bgcolor\":\"#E5ECF6\",\"polar\":{\"bgcolor\":\"#E5ECF6\",\"angularaxis\":{\"gridcolor\":\"white\",\"linecolor\":\"white\",\"ticks\":\"\"},\"radialaxis\":{\"gridcolor\":\"white\",\"linecolor\":\"white\",\"ticks\":\"\"}},\"ternary\":{\"bgcolor\":\"#E5ECF6\",\"aaxis\":{\"gridcolor\":\"white\",\"linecolor\":\"white\",\"ticks\":\"\"},\"baxis\":{\"gridcolor\":\"white\",\"linecolor\":\"white\",\"ticks\":\"\"},\"caxis\":{\"gridcolor\":\"white\",\"linecolor\":\"white\",\"ticks\":\"\"}},\"coloraxis\":{\"colorbar\":{\"outlinewidth\":0,\"ticks\":\"\"}},\"colorscale\":{\"sequential\":[[0.0,\"#0d0887\"],[0.1111111111111111,\"#46039f\"],[0.2222222222222222,\"#7201a8\"],[0.3333333333333333,\"#9c179e\"],[0.4444444444444444,\"#bd3786\"],[0.5555555555555556,\"#d8576b\"],[0.6666666666666666,\"#ed7953\"],[0.7777777777777778,\"#fb9f3a\"],[0.8888888888888888,\"#fdca26\"],[1.0,\"#f0f921\"]],\"sequentialminus\":[[0.0,\"#0d0887\"],[0.1111111111111111,\"#46039f\"],[0.2222222222222222,\"#7201a8\"],[0.3333333333333333,\"#9c179e\"],[0.4444444444444444,\"#bd3786\"],[0.5555555555555556,\"#d8576b\"],[0.6666666666666666,\"#ed7953\"],[0.7777777777777778,\"#fb9f3a\"],[0.8888888888888888,\"#fdca26\"],[1.0,\"#f0f921\"]],\"diverging\":[[0,\"#8e0152\"],[0.1,\"#c51b7d\"],[0.2,\"#de77ae\"],[0.3,\"#f1b6da\"],[0.4,\"#fde0ef\"],[0.5,\"#f7f7f7\"],[0.6,\"#e6f5d0\"],[0.7,\"#b8e186\"],[0.8,\"#7fbc41\"],[0.9,\"#4d9221\"],[1,\"#276419\"]]},\"xaxis\":{\"gridcolor\":\"white\",\"linecolor\":\"white\",\"ticks\":\"\",\"title\":{\"standoff\":15},\"zerolinecolor\":\"white\",\"automargin\":true,\"zerolinewidth\":2},\"yaxis\":{\"gridcolor\":\"white\",\"linecolor\":\"white\",\"ticks\":\"\",\"title\":{\"standoff\":15},\"zerolinecolor\":\"white\",\"automargin\":true,\"zerolinewidth\":2},\"scene\":{\"xaxis\":{\"backgroundcolor\":\"#E5ECF6\",\"gridcolor\":\"white\",\"linecolor\":\"white\",\"showbackground\":true,\"ticks\":\"\",\"zerolinecolor\":\"white\",\"gridwidth\":2},\"yaxis\":{\"backgroundcolor\":\"#E5ECF6\",\"gridcolor\":\"white\",\"linecolor\":\"white\",\"showbackground\":true,\"ticks\":\"\",\"zerolinecolor\":\"white\",\"gridwidth\":2},\"zaxis\":{\"backgroundcolor\":\"#E5ECF6\",\"gridcolor\":\"white\",\"linecolor\":\"white\",\"showbackground\":true,\"ticks\":\"\",\"zerolinecolor\":\"white\",\"gridwidth\":2}},\"shapedefaults\":{\"line\":{\"color\":\"#2a3f5f\"}},\"annotationdefaults\":{\"arrowcolor\":\"#2a3f5f\",\"arrowhead\":0,\"arrowwidth\":1},\"geo\":{\"bgcolor\":\"white\",\"landcolor\":\"#E5ECF6\",\"subunitcolor\":\"white\",\"showland\":true,\"showlakes\":true,\"lakecolor\":\"white\"},\"title\":{\"x\":0.05},\"mapbox\":{\"style\":\"light\"}}},\"xaxis\":{\"anchor\":\"y\",\"domain\":[0.0,1.0],\"title\":{\"text\":\"Subcategoria\"}},\"yaxis\":{\"anchor\":\"x\",\"domain\":[0.0,1.0],\"title\":{\"text\":\"N\\u00famero de Eventos\"}},\"legend\":{\"title\":{\"text\":\"Mes\"},\"tracegroupgap\":0},\"title\":{\"text\":\"Distribuci\\u00f3n de Eventos Astron\\u00f3micos por Categor\\u00eda y Subcategor\\u00eda en 2023\"},\"barmode\":\"relative\"},                        {\"responsive\": true}                    ).then(function(){\n",
              "                            \n",
              "var gd = document.getElementById('655434fa-b8f2-4be7-a2c6-2fa8a772f62d');\n",
              "var x = new MutationObserver(function (mutations, observer) {{\n",
              "        var display = window.getComputedStyle(gd).display;\n",
              "        if (!display || display === 'none') {{\n",
              "            console.log([gd, 'removed!']);\n",
              "            Plotly.purge(gd);\n",
              "            observer.disconnect();\n",
              "        }}\n",
              "}});\n",
              "\n",
              "// Listen for the removal of the full notebook cells\n",
              "var notebookContainer = gd.closest('#notebook-container');\n",
              "if (notebookContainer) {{\n",
              "    x.observe(notebookContainer, {childList: true});\n",
              "}}\n",
              "\n",
              "// Listen for the clearing of the current output cell\n",
              "var outputEl = gd.closest('.output');\n",
              "if (outputEl) {{\n",
              "    x.observe(outputEl, {childList: true});\n",
              "}}\n",
              "\n",
              "                        })                };                            </script>        </div>\n",
              "</body>\n",
              "</html>"
            ]
          },
          "metadata": {}
        }
      ]
    },
    {
      "cell_type": "code",
      "source": [
        "fig = px.sunburst(conteo_eventos, path=['Mes', 'Categoria', 'Subcategoria'], values='Conteo')\n",
        "fig.show()"
      ],
      "metadata": {
        "colab": {
          "base_uri": "https://localhost:8080/",
          "height": 542
        },
        "id": "WbYdUEEbLO9J",
        "outputId": "a96a8ed9-b631-4dbb-c294-40315b189839"
      },
      "execution_count": null,
      "outputs": [
        {
          "output_type": "display_data",
          "data": {
            "text/html": [
              "<html>\n",
              "<head><meta charset=\"utf-8\" /></head>\n",
              "<body>\n",
              "    <div>            <script src=\"https://cdnjs.cloudflare.com/ajax/libs/mathjax/2.7.5/MathJax.js?config=TeX-AMS-MML_SVG\"></script><script type=\"text/javascript\">if (window.MathJax && window.MathJax.Hub && window.MathJax.Hub.Config) {window.MathJax.Hub.Config({SVG: {font: \"STIX-Web\"}});}</script>                <script type=\"text/javascript\">window.PlotlyConfig = {MathJaxConfig: 'local'};</script>\n",
              "        <script charset=\"utf-8\" src=\"https://cdn.plot.ly/plotly-2.24.1.min.js\"></script>                <div id=\"5734a461-5ab1-4365-a17d-6ecf6ef1c214\" class=\"plotly-graph-div\" style=\"height:525px; width:100%;\"></div>            <script type=\"text/javascript\">                                    window.PLOTLYENV=window.PLOTLYENV || {};                                    if (document.getElementById(\"5734a461-5ab1-4365-a17d-6ecf6ef1c214\")) {                    Plotly.newPlot(                        \"5734a461-5ab1-4365-a17d-6ecf6ef1c214\",                        [{\"branchvalues\":\"total\",\"domain\":{\"x\":[0.0,1.0],\"y\":[0.0,1.0]},\"hovertemplate\":\"labels=%{label}\\u003cbr\\u003eConteo=%{value}\\u003cbr\\u003eparent=%{parent}\\u003cbr\\u003eid=%{id}\\u003cextra\\u003e\\u003c\\u002fextra\\u003e\",\"ids\":[\"January\\u002fCometa\\u002fN\\u002fA\",\"February\\u002fCometa\\u002fN\\u002fA\",\"March\\u002fCometa\\u002fN\\u002fA\",\"April\\u002fCometa\\u002fN\\u002fA\",\"May\\u002fCometa\\u002fN\\u002fA\",\"June\\u002fCometa\\u002fN\\u002fA\",\"July\\u002fCometa\\u002fN\\u002fA\",\"August\\u002fCometa\\u002fN\\u002fA\",\"September\\u002fCometa\\u002fN\\u002fA\",\"October\\u002fCometa\\u002fN\\u002fA\",\"November\\u002fCometa\\u002fN\\u002fA\",\"December\\u002fCometa\\u002fN\\u002fA\",\"January\\u002fConstelaci\\u00f3n\\u002fN\\u002fA\",\"February\\u002fConstelaci\\u00f3n\\u002fN\\u002fA\",\"March\\u002fConstelaci\\u00f3n\\u002fN\\u002fA\",\"April\\u002fConstelaci\\u00f3n\\u002fN\\u002fA\",\"May\\u002fConstelaci\\u00f3n\\u002fN\\u002fA\",\"June\\u002fConstelaci\\u00f3n\\u002fN\\u002fA\",\"July\\u002fConstelaci\\u00f3n\\u002fN\\u002fA\",\"August\\u002fConstelaci\\u00f3n\\u002fN\\u002fA\",\"September\\u002fConstelaci\\u00f3n\\u002fN\\u002fA\",\"October\\u002fConstelaci\\u00f3n\\u002fN\\u002fA\",\"November\\u002fConstelaci\\u00f3n\\u002fN\\u002fA\",\"December\\u002fConstelaci\\u00f3n\\u002fN\\u002fA\",\"January\\u002fEclipse\\u002fN\\u002fA\",\"February\\u002fEclipse\\u002fN\\u002fA\",\"March\\u002fEclipse\\u002fN\\u002fA\",\"April\\u002fEclipse\\u002fN\\u002fA\",\"May\\u002fEclipse\\u002fN\\u002fA\",\"June\\u002fEclipse\\u002fN\\u002fA\",\"July\\u002fEclipse\\u002fN\\u002fA\",\"August\\u002fEclipse\\u002fN\\u002fA\",\"September\\u002fEclipse\\u002fN\\u002fA\",\"October\\u002fEclipse\\u002fN\\u002fA\",\"November\\u002fEclipse\\u002fN\\u002fA\",\"December\\u002fEclipse\\u002fN\\u002fA\",\"January\\u002fEstacion\\u002fN\\u002fA\",\"February\\u002fEstacion\\u002fN\\u002fA\",\"March\\u002fEstacion\\u002fN\\u002fA\",\"April\\u002fEstacion\\u002fN\\u002fA\",\"May\\u002fEstacion\\u002fN\\u002fA\",\"June\\u002fEstacion\\u002fN\\u002fA\",\"July\\u002fEstacion\\u002fN\\u002fA\",\"August\\u002fEstacion\\u002fN\\u002fA\",\"September\\u002fEstacion\\u002fN\\u002fA\",\"October\\u002fEstacion\\u002fN\\u002fA\",\"November\\u002fEstacion\\u002fN\\u002fA\",\"December\\u002fEstacion\\u002fN\\u002fA\",\"January\\u002fEstrella\\u002fN\\u002fA\",\"February\\u002fEstrella\\u002fN\\u002fA\",\"March\\u002fEstrella\\u002fN\\u002fA\",\"April\\u002fEstrella\\u002fN\\u002fA\",\"May\\u002fEstrella\\u002fN\\u002fA\",\"June\\u002fEstrella\\u002fN\\u002fA\",\"July\\u002fEstrella\\u002fN\\u002fA\",\"August\\u002fEstrella\\u002fN\\u002fA\",\"September\\u002fEstrella\\u002fN\\u002fA\",\"October\\u002fEstrella\\u002fN\\u002fA\",\"November\\u002fEstrella\\u002fN\\u002fA\",\"December\\u002fEstrella\\u002fN\\u002fA\",\"January\\u002fLuna\\u002fN\\u002fA\",\"February\\u002fLuna\\u002fN\\u002fA\",\"March\\u002fLuna\\u002fN\\u002fA\",\"April\\u002fLuna\\u002fN\\u002fA\",\"May\\u002fLuna\\u002fN\\u002fA\",\"June\\u002fLuna\\u002fN\\u002fA\",\"July\\u002fLuna\\u002fN\\u002fA\",\"August\\u002fLuna\\u002fN\\u002fA\",\"September\\u002fLuna\\u002fN\\u002fA\",\"October\\u002fLuna\\u002fN\\u002fA\",\"November\\u002fLuna\\u002fN\\u002fA\",\"December\\u002fLuna\\u002fN\\u002fA\",\"January\\u002fNebulosa\\u002fN\\u002fA\",\"February\\u002fNebulosa\\u002fN\\u002fA\",\"March\\u002fNebulosa\\u002fN\\u002fA\",\"April\\u002fNebulosa\\u002fN\\u002fA\",\"May\\u002fNebulosa\\u002fN\\u002fA\",\"June\\u002fNebulosa\\u002fN\\u002fA\",\"July\\u002fNebulosa\\u002fN\\u002fA\",\"August\\u002fNebulosa\\u002fN\\u002fA\",\"September\\u002fNebulosa\\u002fN\\u002fA\",\"October\\u002fNebulosa\\u002fN\\u002fA\",\"November\\u002fNebulosa\\u002fN\\u002fA\",\"December\\u002fNebulosa\\u002fN\\u002fA\",\"January\\u002fOtro\\u002fN\\u002fA\",\"February\\u002fOtro\\u002fN\\u002fA\",\"March\\u002fOtro\\u002fN\\u002fA\",\"April\\u002fOtro\\u002fN\\u002fA\",\"May\\u002fOtro\\u002fN\\u002fA\",\"June\\u002fOtro\\u002fN\\u002fA\",\"July\\u002fOtro\\u002fN\\u002fA\",\"August\\u002fOtro\\u002fN\\u002fA\",\"September\\u002fOtro\\u002fN\\u002fA\",\"October\\u002fOtro\\u002fN\\u002fA\",\"November\\u002fOtro\\u002fN\\u002fA\",\"December\\u002fOtro\\u002fN\\u002fA\",\"January\\u002fPlaneta\\u002fN\\u002fA\",\"February\\u002fPlaneta\\u002fN\\u002fA\",\"March\\u002fPlaneta\\u002fN\\u002fA\",\"April\\u002fPlaneta\\u002fN\\u002fA\",\"May\\u002fPlaneta\\u002fN\\u002fA\",\"June\\u002fPlaneta\\u002fN\\u002fA\",\"July\\u002fPlaneta\\u002fN\\u002fA\",\"August\\u002fPlaneta\\u002fN\\u002fA\",\"September\\u002fPlaneta\\u002fN\\u002fA\",\"October\\u002fPlaneta\\u002fN\\u002fA\",\"November\\u002fPlaneta\\u002fN\\u002fA\",\"December\\u002fPlaneta\\u002fN\\u002fA\",\"January\\u002fSupernova\\u002fN\\u002fA\",\"February\\u002fSupernova\\u002fN\\u002fA\",\"March\\u002fSupernova\\u002fN\\u002fA\",\"April\\u002fSupernova\\u002fN\\u002fA\",\"May\\u002fSupernova\\u002fN\\u002fA\",\"June\\u002fSupernova\\u002fN\\u002fA\",\"July\\u002fSupernova\\u002fN\\u002fA\",\"August\\u002fSupernova\\u002fN\\u002fA\",\"September\\u002fSupernova\\u002fN\\u002fA\",\"October\\u002fSupernova\\u002fN\\u002fA\",\"November\\u002fSupernova\\u002fN\\u002fA\",\"December\\u002fSupernova\\u002fN\\u002fA\",\"January\\u002fCometa\\u002fSolar\",\"February\\u002fCometa\\u002fSolar\",\"March\\u002fCometa\\u002fSolar\",\"April\\u002fCometa\\u002fSolar\",\"May\\u002fCometa\\u002fSolar\",\"June\\u002fCometa\\u002fSolar\",\"July\\u002fCometa\\u002fSolar\",\"August\\u002fCometa\\u002fSolar\",\"September\\u002fCometa\\u002fSolar\",\"October\\u002fCometa\\u002fSolar\",\"November\\u002fCometa\\u002fSolar\",\"December\\u002fCometa\\u002fSolar\",\"January\\u002fConstelaci\\u00f3n\\u002fSolar\",\"February\\u002fConstelaci\\u00f3n\\u002fSolar\",\"March\\u002fConstelaci\\u00f3n\\u002fSolar\",\"April\\u002fConstelaci\\u00f3n\\u002fSolar\",\"May\\u002fConstelaci\\u00f3n\\u002fSolar\",\"June\\u002fConstelaci\\u00f3n\\u002fSolar\",\"July\\u002fConstelaci\\u00f3n\\u002fSolar\",\"August\\u002fConstelaci\\u00f3n\\u002fSolar\",\"September\\u002fConstelaci\\u00f3n\\u002fSolar\",\"October\\u002fConstelaci\\u00f3n\\u002fSolar\",\"November\\u002fConstelaci\\u00f3n\\u002fSolar\",\"December\\u002fConstelaci\\u00f3n\\u002fSolar\",\"January\\u002fEclipse\\u002fSolar\",\"February\\u002fEclipse\\u002fSolar\",\"March\\u002fEclipse\\u002fSolar\",\"April\\u002fEclipse\\u002fSolar\",\"May\\u002fEclipse\\u002fSolar\",\"June\\u002fEclipse\\u002fSolar\",\"July\\u002fEclipse\\u002fSolar\",\"August\\u002fEclipse\\u002fSolar\",\"September\\u002fEclipse\\u002fSolar\",\"October\\u002fEclipse\\u002fSolar\",\"November\\u002fEclipse\\u002fSolar\",\"December\\u002fEclipse\\u002fSolar\",\"January\\u002fEstacion\\u002fSolar\",\"February\\u002fEstacion\\u002fSolar\",\"March\\u002fEstacion\\u002fSolar\",\"April\\u002fEstacion\\u002fSolar\",\"May\\u002fEstacion\\u002fSolar\",\"June\\u002fEstacion\\u002fSolar\",\"July\\u002fEstacion\\u002fSolar\",\"August\\u002fEstacion\\u002fSolar\",\"September\\u002fEstacion\\u002fSolar\",\"October\\u002fEstacion\\u002fSolar\",\"November\\u002fEstacion\\u002fSolar\",\"December\\u002fEstacion\\u002fSolar\",\"January\\u002fEstrella\\u002fSolar\",\"February\\u002fEstrella\\u002fSolar\",\"March\\u002fEstrella\\u002fSolar\",\"April\\u002fEstrella\\u002fSolar\",\"May\\u002fEstrella\\u002fSolar\",\"June\\u002fEstrella\\u002fSolar\",\"July\\u002fEstrella\\u002fSolar\",\"August\\u002fEstrella\\u002fSolar\",\"September\\u002fEstrella\\u002fSolar\",\"October\\u002fEstrella\\u002fSolar\",\"November\\u002fEstrella\\u002fSolar\",\"December\\u002fEstrella\\u002fSolar\",\"January\\u002fLuna\\u002fSolar\",\"February\\u002fLuna\\u002fSolar\",\"March\\u002fLuna\\u002fSolar\",\"April\\u002fLuna\\u002fSolar\",\"May\\u002fLuna\\u002fSolar\",\"June\\u002fLuna\\u002fSolar\",\"July\\u002fLuna\\u002fSolar\",\"August\\u002fLuna\\u002fSolar\",\"September\\u002fLuna\\u002fSolar\",\"October\\u002fLuna\\u002fSolar\",\"November\\u002fLuna\\u002fSolar\",\"December\\u002fLuna\\u002fSolar\",\"January\\u002fNebulosa\\u002fSolar\",\"February\\u002fNebulosa\\u002fSolar\",\"March\\u002fNebulosa\\u002fSolar\",\"April\\u002fNebulosa\\u002fSolar\",\"May\\u002fNebulosa\\u002fSolar\",\"June\\u002fNebulosa\\u002fSolar\",\"July\\u002fNebulosa\\u002fSolar\",\"August\\u002fNebulosa\\u002fSolar\",\"September\\u002fNebulosa\\u002fSolar\",\"October\\u002fNebulosa\\u002fSolar\",\"November\\u002fNebulosa\\u002fSolar\",\"December\\u002fNebulosa\\u002fSolar\",\"January\\u002fOtro\\u002fSolar\",\"February\\u002fOtro\\u002fSolar\",\"March\\u002fOtro\\u002fSolar\",\"April\\u002fOtro\\u002fSolar\",\"May\\u002fOtro\\u002fSolar\",\"June\\u002fOtro\\u002fSolar\",\"July\\u002fOtro\\u002fSolar\",\"August\\u002fOtro\\u002fSolar\",\"September\\u002fOtro\\u002fSolar\",\"October\\u002fOtro\\u002fSolar\",\"November\\u002fOtro\\u002fSolar\",\"December\\u002fOtro\\u002fSolar\",\"January\\u002fPlaneta\\u002fSolar\",\"February\\u002fPlaneta\\u002fSolar\",\"March\\u002fPlaneta\\u002fSolar\",\"April\\u002fPlaneta\\u002fSolar\",\"May\\u002fPlaneta\\u002fSolar\",\"June\\u002fPlaneta\\u002fSolar\",\"July\\u002fPlaneta\\u002fSolar\",\"August\\u002fPlaneta\\u002fSolar\",\"September\\u002fPlaneta\\u002fSolar\",\"October\\u002fPlaneta\\u002fSolar\",\"November\\u002fPlaneta\\u002fSolar\",\"December\\u002fPlaneta\\u002fSolar\",\"January\\u002fSupernova\\u002fSolar\",\"February\\u002fSupernova\\u002fSolar\",\"March\\u002fSupernova\\u002fSolar\",\"April\\u002fSupernova\\u002fSolar\",\"May\\u002fSupernova\\u002fSolar\",\"June\\u002fSupernova\\u002fSolar\",\"July\\u002fSupernova\\u002fSolar\",\"August\\u002fSupernova\\u002fSolar\",\"September\\u002fSupernova\\u002fSolar\",\"October\\u002fSupernova\\u002fSolar\",\"November\\u002fSupernova\\u002fSolar\",\"December\\u002fSupernova\\u002fSolar\",\"January\\u002fCometa\",\"February\\u002fCometa\",\"March\\u002fCometa\",\"April\\u002fCometa\",\"May\\u002fCometa\",\"June\\u002fCometa\",\"July\\u002fCometa\",\"August\\u002fCometa\",\"September\\u002fCometa\",\"October\\u002fCometa\",\"November\\u002fCometa\",\"December\\u002fCometa\",\"January\\u002fConstelaci\\u00f3n\",\"February\\u002fConstelaci\\u00f3n\",\"March\\u002fConstelaci\\u00f3n\",\"April\\u002fConstelaci\\u00f3n\",\"May\\u002fConstelaci\\u00f3n\",\"June\\u002fConstelaci\\u00f3n\",\"July\\u002fConstelaci\\u00f3n\",\"August\\u002fConstelaci\\u00f3n\",\"September\\u002fConstelaci\\u00f3n\",\"October\\u002fConstelaci\\u00f3n\",\"November\\u002fConstelaci\\u00f3n\",\"December\\u002fConstelaci\\u00f3n\",\"January\\u002fEclipse\",\"February\\u002fEclipse\",\"March\\u002fEclipse\",\"April\\u002fEclipse\",\"May\\u002fEclipse\",\"June\\u002fEclipse\",\"July\\u002fEclipse\",\"August\\u002fEclipse\",\"September\\u002fEclipse\",\"October\\u002fEclipse\",\"November\\u002fEclipse\",\"December\\u002fEclipse\",\"January\\u002fEstacion\",\"February\\u002fEstacion\",\"March\\u002fEstacion\",\"April\\u002fEstacion\",\"May\\u002fEstacion\",\"June\\u002fEstacion\",\"July\\u002fEstacion\",\"August\\u002fEstacion\",\"September\\u002fEstacion\",\"October\\u002fEstacion\",\"November\\u002fEstacion\",\"December\\u002fEstacion\",\"January\\u002fEstrella\",\"February\\u002fEstrella\",\"March\\u002fEstrella\",\"April\\u002fEstrella\",\"May\\u002fEstrella\",\"June\\u002fEstrella\",\"July\\u002fEstrella\",\"August\\u002fEstrella\",\"September\\u002fEstrella\",\"October\\u002fEstrella\",\"November\\u002fEstrella\",\"December\\u002fEstrella\",\"January\\u002fLuna\",\"February\\u002fLuna\",\"March\\u002fLuna\",\"April\\u002fLuna\",\"May\\u002fLuna\",\"June\\u002fLuna\",\"July\\u002fLuna\",\"August\\u002fLuna\",\"September\\u002fLuna\",\"October\\u002fLuna\",\"November\\u002fLuna\",\"December\\u002fLuna\",\"January\\u002fNebulosa\",\"February\\u002fNebulosa\",\"March\\u002fNebulosa\",\"April\\u002fNebulosa\",\"May\\u002fNebulosa\",\"June\\u002fNebulosa\",\"July\\u002fNebulosa\",\"August\\u002fNebulosa\",\"September\\u002fNebulosa\",\"October\\u002fNebulosa\",\"November\\u002fNebulosa\",\"December\\u002fNebulosa\",\"January\\u002fOtro\",\"February\\u002fOtro\",\"March\\u002fOtro\",\"April\\u002fOtro\",\"May\\u002fOtro\",\"June\\u002fOtro\",\"July\\u002fOtro\",\"August\\u002fOtro\",\"September\\u002fOtro\",\"October\\u002fOtro\",\"November\\u002fOtro\",\"December\\u002fOtro\",\"January\\u002fPlaneta\",\"February\\u002fPlaneta\",\"March\\u002fPlaneta\",\"April\\u002fPlaneta\",\"May\\u002fPlaneta\",\"June\\u002fPlaneta\",\"July\\u002fPlaneta\",\"August\\u002fPlaneta\",\"September\\u002fPlaneta\",\"October\\u002fPlaneta\",\"November\\u002fPlaneta\",\"December\\u002fPlaneta\",\"January\\u002fSupernova\",\"February\\u002fSupernova\",\"March\\u002fSupernova\",\"April\\u002fSupernova\",\"May\\u002fSupernova\",\"June\\u002fSupernova\",\"July\\u002fSupernova\",\"August\\u002fSupernova\",\"September\\u002fSupernova\",\"October\\u002fSupernova\",\"November\\u002fSupernova\",\"December\\u002fSupernova\",\"January\",\"February\",\"March\",\"April\",\"May\",\"June\",\"July\",\"August\",\"September\",\"October\",\"November\",\"December\"],\"labels\":[\"N\\u002fA\",\"N\\u002fA\",\"N\\u002fA\",\"N\\u002fA\",\"N\\u002fA\",\"N\\u002fA\",\"N\\u002fA\",\"N\\u002fA\",\"N\\u002fA\",\"N\\u002fA\",\"N\\u002fA\",\"N\\u002fA\",\"N\\u002fA\",\"N\\u002fA\",\"N\\u002fA\",\"N\\u002fA\",\"N\\u002fA\",\"N\\u002fA\",\"N\\u002fA\",\"N\\u002fA\",\"N\\u002fA\",\"N\\u002fA\",\"N\\u002fA\",\"N\\u002fA\",\"N\\u002fA\",\"N\\u002fA\",\"N\\u002fA\",\"N\\u002fA\",\"N\\u002fA\",\"N\\u002fA\",\"N\\u002fA\",\"N\\u002fA\",\"N\\u002fA\",\"N\\u002fA\",\"N\\u002fA\",\"N\\u002fA\",\"N\\u002fA\",\"N\\u002fA\",\"N\\u002fA\",\"N\\u002fA\",\"N\\u002fA\",\"N\\u002fA\",\"N\\u002fA\",\"N\\u002fA\",\"N\\u002fA\",\"N\\u002fA\",\"N\\u002fA\",\"N\\u002fA\",\"N\\u002fA\",\"N\\u002fA\",\"N\\u002fA\",\"N\\u002fA\",\"N\\u002fA\",\"N\\u002fA\",\"N\\u002fA\",\"N\\u002fA\",\"N\\u002fA\",\"N\\u002fA\",\"N\\u002fA\",\"N\\u002fA\",\"N\\u002fA\",\"N\\u002fA\",\"N\\u002fA\",\"N\\u002fA\",\"N\\u002fA\",\"N\\u002fA\",\"N\\u002fA\",\"N\\u002fA\",\"N\\u002fA\",\"N\\u002fA\",\"N\\u002fA\",\"N\\u002fA\",\"N\\u002fA\",\"N\\u002fA\",\"N\\u002fA\",\"N\\u002fA\",\"N\\u002fA\",\"N\\u002fA\",\"N\\u002fA\",\"N\\u002fA\",\"N\\u002fA\",\"N\\u002fA\",\"N\\u002fA\",\"N\\u002fA\",\"N\\u002fA\",\"N\\u002fA\",\"N\\u002fA\",\"N\\u002fA\",\"N\\u002fA\",\"N\\u002fA\",\"N\\u002fA\",\"N\\u002fA\",\"N\\u002fA\",\"N\\u002fA\",\"N\\u002fA\",\"N\\u002fA\",\"N\\u002fA\",\"N\\u002fA\",\"N\\u002fA\",\"N\\u002fA\",\"N\\u002fA\",\"N\\u002fA\",\"N\\u002fA\",\"N\\u002fA\",\"N\\u002fA\",\"N\\u002fA\",\"N\\u002fA\",\"N\\u002fA\",\"N\\u002fA\",\"N\\u002fA\",\"N\\u002fA\",\"N\\u002fA\",\"N\\u002fA\",\"N\\u002fA\",\"N\\u002fA\",\"N\\u002fA\",\"N\\u002fA\",\"N\\u002fA\",\"N\\u002fA\",\"N\\u002fA\",\"Solar\",\"Solar\",\"Solar\",\"Solar\",\"Solar\",\"Solar\",\"Solar\",\"Solar\",\"Solar\",\"Solar\",\"Solar\",\"Solar\",\"Solar\",\"Solar\",\"Solar\",\"Solar\",\"Solar\",\"Solar\",\"Solar\",\"Solar\",\"Solar\",\"Solar\",\"Solar\",\"Solar\",\"Solar\",\"Solar\",\"Solar\",\"Solar\",\"Solar\",\"Solar\",\"Solar\",\"Solar\",\"Solar\",\"Solar\",\"Solar\",\"Solar\",\"Solar\",\"Solar\",\"Solar\",\"Solar\",\"Solar\",\"Solar\",\"Solar\",\"Solar\",\"Solar\",\"Solar\",\"Solar\",\"Solar\",\"Solar\",\"Solar\",\"Solar\",\"Solar\",\"Solar\",\"Solar\",\"Solar\",\"Solar\",\"Solar\",\"Solar\",\"Solar\",\"Solar\",\"Solar\",\"Solar\",\"Solar\",\"Solar\",\"Solar\",\"Solar\",\"Solar\",\"Solar\",\"Solar\",\"Solar\",\"Solar\",\"Solar\",\"Solar\",\"Solar\",\"Solar\",\"Solar\",\"Solar\",\"Solar\",\"Solar\",\"Solar\",\"Solar\",\"Solar\",\"Solar\",\"Solar\",\"Solar\",\"Solar\",\"Solar\",\"Solar\",\"Solar\",\"Solar\",\"Solar\",\"Solar\",\"Solar\",\"Solar\",\"Solar\",\"Solar\",\"Solar\",\"Solar\",\"Solar\",\"Solar\",\"Solar\",\"Solar\",\"Solar\",\"Solar\",\"Solar\",\"Solar\",\"Solar\",\"Solar\",\"Solar\",\"Solar\",\"Solar\",\"Solar\",\"Solar\",\"Solar\",\"Solar\",\"Solar\",\"Solar\",\"Solar\",\"Solar\",\"Solar\",\"Cometa\",\"Cometa\",\"Cometa\",\"Cometa\",\"Cometa\",\"Cometa\",\"Cometa\",\"Cometa\",\"Cometa\",\"Cometa\",\"Cometa\",\"Cometa\",\"Constelaci\\u00f3n\",\"Constelaci\\u00f3n\",\"Constelaci\\u00f3n\",\"Constelaci\\u00f3n\",\"Constelaci\\u00f3n\",\"Constelaci\\u00f3n\",\"Constelaci\\u00f3n\",\"Constelaci\\u00f3n\",\"Constelaci\\u00f3n\",\"Constelaci\\u00f3n\",\"Constelaci\\u00f3n\",\"Constelaci\\u00f3n\",\"Eclipse\",\"Eclipse\",\"Eclipse\",\"Eclipse\",\"Eclipse\",\"Eclipse\",\"Eclipse\",\"Eclipse\",\"Eclipse\",\"Eclipse\",\"Eclipse\",\"Eclipse\",\"Estacion\",\"Estacion\",\"Estacion\",\"Estacion\",\"Estacion\",\"Estacion\",\"Estacion\",\"Estacion\",\"Estacion\",\"Estacion\",\"Estacion\",\"Estacion\",\"Estrella\",\"Estrella\",\"Estrella\",\"Estrella\",\"Estrella\",\"Estrella\",\"Estrella\",\"Estrella\",\"Estrella\",\"Estrella\",\"Estrella\",\"Estrella\",\"Luna\",\"Luna\",\"Luna\",\"Luna\",\"Luna\",\"Luna\",\"Luna\",\"Luna\",\"Luna\",\"Luna\",\"Luna\",\"Luna\",\"Nebulosa\",\"Nebulosa\",\"Nebulosa\",\"Nebulosa\",\"Nebulosa\",\"Nebulosa\",\"Nebulosa\",\"Nebulosa\",\"Nebulosa\",\"Nebulosa\",\"Nebulosa\",\"Nebulosa\",\"Otro\",\"Otro\",\"Otro\",\"Otro\",\"Otro\",\"Otro\",\"Otro\",\"Otro\",\"Otro\",\"Otro\",\"Otro\",\"Otro\",\"Planeta\",\"Planeta\",\"Planeta\",\"Planeta\",\"Planeta\",\"Planeta\",\"Planeta\",\"Planeta\",\"Planeta\",\"Planeta\",\"Planeta\",\"Planeta\",\"Supernova\",\"Supernova\",\"Supernova\",\"Supernova\",\"Supernova\",\"Supernova\",\"Supernova\",\"Supernova\",\"Supernova\",\"Supernova\",\"Supernova\",\"Supernova\",\"January\",\"February\",\"March\",\"April\",\"May\",\"June\",\"July\",\"August\",\"September\",\"October\",\"November\",\"December\"],\"name\":\"\",\"parents\":[\"January\\u002fCometa\",\"February\\u002fCometa\",\"March\\u002fCometa\",\"April\\u002fCometa\",\"May\\u002fCometa\",\"June\\u002fCometa\",\"July\\u002fCometa\",\"August\\u002fCometa\",\"September\\u002fCometa\",\"October\\u002fCometa\",\"November\\u002fCometa\",\"December\\u002fCometa\",\"January\\u002fConstelaci\\u00f3n\",\"February\\u002fConstelaci\\u00f3n\",\"March\\u002fConstelaci\\u00f3n\",\"April\\u002fConstelaci\\u00f3n\",\"May\\u002fConstelaci\\u00f3n\",\"June\\u002fConstelaci\\u00f3n\",\"July\\u002fConstelaci\\u00f3n\",\"August\\u002fConstelaci\\u00f3n\",\"September\\u002fConstelaci\\u00f3n\",\"October\\u002fConstelaci\\u00f3n\",\"November\\u002fConstelaci\\u00f3n\",\"December\\u002fConstelaci\\u00f3n\",\"January\\u002fEclipse\",\"February\\u002fEclipse\",\"March\\u002fEclipse\",\"April\\u002fEclipse\",\"May\\u002fEclipse\",\"June\\u002fEclipse\",\"July\\u002fEclipse\",\"August\\u002fEclipse\",\"September\\u002fEclipse\",\"October\\u002fEclipse\",\"November\\u002fEclipse\",\"December\\u002fEclipse\",\"January\\u002fEstacion\",\"February\\u002fEstacion\",\"March\\u002fEstacion\",\"April\\u002fEstacion\",\"May\\u002fEstacion\",\"June\\u002fEstacion\",\"July\\u002fEstacion\",\"August\\u002fEstacion\",\"September\\u002fEstacion\",\"October\\u002fEstacion\",\"November\\u002fEstacion\",\"December\\u002fEstacion\",\"January\\u002fEstrella\",\"February\\u002fEstrella\",\"March\\u002fEstrella\",\"April\\u002fEstrella\",\"May\\u002fEstrella\",\"June\\u002fEstrella\",\"July\\u002fEstrella\",\"August\\u002fEstrella\",\"September\\u002fEstrella\",\"October\\u002fEstrella\",\"November\\u002fEstrella\",\"December\\u002fEstrella\",\"January\\u002fLuna\",\"February\\u002fLuna\",\"March\\u002fLuna\",\"April\\u002fLuna\",\"May\\u002fLuna\",\"June\\u002fLuna\",\"July\\u002fLuna\",\"August\\u002fLuna\",\"September\\u002fLuna\",\"October\\u002fLuna\",\"November\\u002fLuna\",\"December\\u002fLuna\",\"January\\u002fNebulosa\",\"February\\u002fNebulosa\",\"March\\u002fNebulosa\",\"April\\u002fNebulosa\",\"May\\u002fNebulosa\",\"June\\u002fNebulosa\",\"July\\u002fNebulosa\",\"August\\u002fNebulosa\",\"September\\u002fNebulosa\",\"October\\u002fNebulosa\",\"November\\u002fNebulosa\",\"December\\u002fNebulosa\",\"January\\u002fOtro\",\"February\\u002fOtro\",\"March\\u002fOtro\",\"April\\u002fOtro\",\"May\\u002fOtro\",\"June\\u002fOtro\",\"July\\u002fOtro\",\"August\\u002fOtro\",\"September\\u002fOtro\",\"October\\u002fOtro\",\"November\\u002fOtro\",\"December\\u002fOtro\",\"January\\u002fPlaneta\",\"February\\u002fPlaneta\",\"March\\u002fPlaneta\",\"April\\u002fPlaneta\",\"May\\u002fPlaneta\",\"June\\u002fPlaneta\",\"July\\u002fPlaneta\",\"August\\u002fPlaneta\",\"September\\u002fPlaneta\",\"October\\u002fPlaneta\",\"November\\u002fPlaneta\",\"December\\u002fPlaneta\",\"January\\u002fSupernova\",\"February\\u002fSupernova\",\"March\\u002fSupernova\",\"April\\u002fSupernova\",\"May\\u002fSupernova\",\"June\\u002fSupernova\",\"July\\u002fSupernova\",\"August\\u002fSupernova\",\"September\\u002fSupernova\",\"October\\u002fSupernova\",\"November\\u002fSupernova\",\"December\\u002fSupernova\",\"January\\u002fCometa\",\"February\\u002fCometa\",\"March\\u002fCometa\",\"April\\u002fCometa\",\"May\\u002fCometa\",\"June\\u002fCometa\",\"July\\u002fCometa\",\"August\\u002fCometa\",\"September\\u002fCometa\",\"October\\u002fCometa\",\"November\\u002fCometa\",\"December\\u002fCometa\",\"January\\u002fConstelaci\\u00f3n\",\"February\\u002fConstelaci\\u00f3n\",\"March\\u002fConstelaci\\u00f3n\",\"April\\u002fConstelaci\\u00f3n\",\"May\\u002fConstelaci\\u00f3n\",\"June\\u002fConstelaci\\u00f3n\",\"July\\u002fConstelaci\\u00f3n\",\"August\\u002fConstelaci\\u00f3n\",\"September\\u002fConstelaci\\u00f3n\",\"October\\u002fConstelaci\\u00f3n\",\"November\\u002fConstelaci\\u00f3n\",\"December\\u002fConstelaci\\u00f3n\",\"January\\u002fEclipse\",\"February\\u002fEclipse\",\"March\\u002fEclipse\",\"April\\u002fEclipse\",\"May\\u002fEclipse\",\"June\\u002fEclipse\",\"July\\u002fEclipse\",\"August\\u002fEclipse\",\"September\\u002fEclipse\",\"October\\u002fEclipse\",\"November\\u002fEclipse\",\"December\\u002fEclipse\",\"January\\u002fEstacion\",\"February\\u002fEstacion\",\"March\\u002fEstacion\",\"April\\u002fEstacion\",\"May\\u002fEstacion\",\"June\\u002fEstacion\",\"July\\u002fEstacion\",\"August\\u002fEstacion\",\"September\\u002fEstacion\",\"October\\u002fEstacion\",\"November\\u002fEstacion\",\"December\\u002fEstacion\",\"January\\u002fEstrella\",\"February\\u002fEstrella\",\"March\\u002fEstrella\",\"April\\u002fEstrella\",\"May\\u002fEstrella\",\"June\\u002fEstrella\",\"July\\u002fEstrella\",\"August\\u002fEstrella\",\"September\\u002fEstrella\",\"October\\u002fEstrella\",\"November\\u002fEstrella\",\"December\\u002fEstrella\",\"January\\u002fLuna\",\"February\\u002fLuna\",\"March\\u002fLuna\",\"April\\u002fLuna\",\"May\\u002fLuna\",\"June\\u002fLuna\",\"July\\u002fLuna\",\"August\\u002fLuna\",\"September\\u002fLuna\",\"October\\u002fLuna\",\"November\\u002fLuna\",\"December\\u002fLuna\",\"January\\u002fNebulosa\",\"February\\u002fNebulosa\",\"March\\u002fNebulosa\",\"April\\u002fNebulosa\",\"May\\u002fNebulosa\",\"June\\u002fNebulosa\",\"July\\u002fNebulosa\",\"August\\u002fNebulosa\",\"September\\u002fNebulosa\",\"October\\u002fNebulosa\",\"November\\u002fNebulosa\",\"December\\u002fNebulosa\",\"January\\u002fOtro\",\"February\\u002fOtro\",\"March\\u002fOtro\",\"April\\u002fOtro\",\"May\\u002fOtro\",\"June\\u002fOtro\",\"July\\u002fOtro\",\"August\\u002fOtro\",\"September\\u002fOtro\",\"October\\u002fOtro\",\"November\\u002fOtro\",\"December\\u002fOtro\",\"January\\u002fPlaneta\",\"February\\u002fPlaneta\",\"March\\u002fPlaneta\",\"April\\u002fPlaneta\",\"May\\u002fPlaneta\",\"June\\u002fPlaneta\",\"July\\u002fPlaneta\",\"August\\u002fPlaneta\",\"September\\u002fPlaneta\",\"October\\u002fPlaneta\",\"November\\u002fPlaneta\",\"December\\u002fPlaneta\",\"January\\u002fSupernova\",\"February\\u002fSupernova\",\"March\\u002fSupernova\",\"April\\u002fSupernova\",\"May\\u002fSupernova\",\"June\\u002fSupernova\",\"July\\u002fSupernova\",\"August\\u002fSupernova\",\"September\\u002fSupernova\",\"October\\u002fSupernova\",\"November\\u002fSupernova\",\"December\\u002fSupernova\",\"January\",\"February\",\"March\",\"April\",\"May\",\"June\",\"July\",\"August\",\"September\",\"October\",\"November\",\"December\",\"January\",\"February\",\"March\",\"April\",\"May\",\"June\",\"July\",\"August\",\"September\",\"October\",\"November\",\"December\",\"January\",\"February\",\"March\",\"April\",\"May\",\"June\",\"July\",\"August\",\"September\",\"October\",\"November\",\"December\",\"January\",\"February\",\"March\",\"April\",\"May\",\"June\",\"July\",\"August\",\"September\",\"October\",\"November\",\"December\",\"January\",\"February\",\"March\",\"April\",\"May\",\"June\",\"July\",\"August\",\"September\",\"October\",\"November\",\"December\",\"January\",\"February\",\"March\",\"April\",\"May\",\"June\",\"July\",\"August\",\"September\",\"October\",\"November\",\"December\",\"January\",\"February\",\"March\",\"April\",\"May\",\"June\",\"July\",\"August\",\"September\",\"October\",\"November\",\"December\",\"January\",\"February\",\"March\",\"April\",\"May\",\"June\",\"July\",\"August\",\"September\",\"October\",\"November\",\"December\",\"January\",\"February\",\"March\",\"April\",\"May\",\"June\",\"July\",\"August\",\"September\",\"October\",\"November\",\"December\",\"January\",\"February\",\"March\",\"April\",\"May\",\"June\",\"July\",\"August\",\"September\",\"October\",\"November\",\"December\",\"\",\"\",\"\",\"\",\"\",\"\",\"\",\"\",\"\",\"\",\"\",\"\"],\"values\":[9,6,5,1,3,0,2,4,3,0,0,0,0,0,1,1,0,0,0,1,0,0,0,0,0,0,0,1,0,0,0,0,0,0,0,0,5,7,8,7,9,10,13,14,1,0,0,0,1,0,0,0,0,0,0,0,0,0,0,0,3,3,2,1,4,3,2,3,3,0,0,0,10,8,12,14,11,9,11,5,4,0,0,0,1,3,2,3,1,3,2,3,0,0,0,0,1,1,1,0,2,5,1,1,0,0,0,0,1,0,0,0,0,0,0,0,0,0,0,0,0,0,0,0,0,0,0,0,0,0,0,0,0,0,0,0,0,0,0,0,0,0,0,0,0,0,0,0,0,0,0,0,0,0,0,0,0,0,0,2,1,0,0,0,0,0,0,0,0,0,0,0,0,0,0,0,0,0,0,0,0,0,0,0,0,0,0,0,0,0,0,0,0,0,0,0,0,0,0,0,0,0,0,0,0,0,0,0,0,0,0,0,0,0,0,0,0,0,0,0,0,0,0,0,0,0,0,0,0,0,0,0,0,0,0,0,0,0,0,0,9,6,5,1,3,0,2,4,3,0,0,0,0,0,1,1,0,0,0,1,0,0,0,0,0,0,0,1,0,0,0,0,0,0,0,0,5,7,8,9,10,10,13,14,1,0,0,0,1,0,0,0,0,0,0,0,0,0,0,0,3,3,2,1,4,3,2,3,3,0,0,0,10,8,12,14,11,9,11,5,4,0,0,0,1,3,2,3,1,3,2,3,0,0,0,0,1,1,1,0,2,5,1,1,0,0,0,0,1,0,0,0,0,0,0,0,0,0,0,0,31,28,31,30,31,30,31,31,11,0,0,0],\"type\":\"sunburst\"}],                        {\"template\":{\"data\":{\"histogram2dcontour\":[{\"type\":\"histogram2dcontour\",\"colorbar\":{\"outlinewidth\":0,\"ticks\":\"\"},\"colorscale\":[[0.0,\"#0d0887\"],[0.1111111111111111,\"#46039f\"],[0.2222222222222222,\"#7201a8\"],[0.3333333333333333,\"#9c179e\"],[0.4444444444444444,\"#bd3786\"],[0.5555555555555556,\"#d8576b\"],[0.6666666666666666,\"#ed7953\"],[0.7777777777777778,\"#fb9f3a\"],[0.8888888888888888,\"#fdca26\"],[1.0,\"#f0f921\"]]}],\"choropleth\":[{\"type\":\"choropleth\",\"colorbar\":{\"outlinewidth\":0,\"ticks\":\"\"}}],\"histogram2d\":[{\"type\":\"histogram2d\",\"colorbar\":{\"outlinewidth\":0,\"ticks\":\"\"},\"colorscale\":[[0.0,\"#0d0887\"],[0.1111111111111111,\"#46039f\"],[0.2222222222222222,\"#7201a8\"],[0.3333333333333333,\"#9c179e\"],[0.4444444444444444,\"#bd3786\"],[0.5555555555555556,\"#d8576b\"],[0.6666666666666666,\"#ed7953\"],[0.7777777777777778,\"#fb9f3a\"],[0.8888888888888888,\"#fdca26\"],[1.0,\"#f0f921\"]]}],\"heatmap\":[{\"type\":\"heatmap\",\"colorbar\":{\"outlinewidth\":0,\"ticks\":\"\"},\"colorscale\":[[0.0,\"#0d0887\"],[0.1111111111111111,\"#46039f\"],[0.2222222222222222,\"#7201a8\"],[0.3333333333333333,\"#9c179e\"],[0.4444444444444444,\"#bd3786\"],[0.5555555555555556,\"#d8576b\"],[0.6666666666666666,\"#ed7953\"],[0.7777777777777778,\"#fb9f3a\"],[0.8888888888888888,\"#fdca26\"],[1.0,\"#f0f921\"]]}],\"heatmapgl\":[{\"type\":\"heatmapgl\",\"colorbar\":{\"outlinewidth\":0,\"ticks\":\"\"},\"colorscale\":[[0.0,\"#0d0887\"],[0.1111111111111111,\"#46039f\"],[0.2222222222222222,\"#7201a8\"],[0.3333333333333333,\"#9c179e\"],[0.4444444444444444,\"#bd3786\"],[0.5555555555555556,\"#d8576b\"],[0.6666666666666666,\"#ed7953\"],[0.7777777777777778,\"#fb9f3a\"],[0.8888888888888888,\"#fdca26\"],[1.0,\"#f0f921\"]]}],\"contourcarpet\":[{\"type\":\"contourcarpet\",\"colorbar\":{\"outlinewidth\":0,\"ticks\":\"\"}}],\"contour\":[{\"type\":\"contour\",\"colorbar\":{\"outlinewidth\":0,\"ticks\":\"\"},\"colorscale\":[[0.0,\"#0d0887\"],[0.1111111111111111,\"#46039f\"],[0.2222222222222222,\"#7201a8\"],[0.3333333333333333,\"#9c179e\"],[0.4444444444444444,\"#bd3786\"],[0.5555555555555556,\"#d8576b\"],[0.6666666666666666,\"#ed7953\"],[0.7777777777777778,\"#fb9f3a\"],[0.8888888888888888,\"#fdca26\"],[1.0,\"#f0f921\"]]}],\"surface\":[{\"type\":\"surface\",\"colorbar\":{\"outlinewidth\":0,\"ticks\":\"\"},\"colorscale\":[[0.0,\"#0d0887\"],[0.1111111111111111,\"#46039f\"],[0.2222222222222222,\"#7201a8\"],[0.3333333333333333,\"#9c179e\"],[0.4444444444444444,\"#bd3786\"],[0.5555555555555556,\"#d8576b\"],[0.6666666666666666,\"#ed7953\"],[0.7777777777777778,\"#fb9f3a\"],[0.8888888888888888,\"#fdca26\"],[1.0,\"#f0f921\"]]}],\"mesh3d\":[{\"type\":\"mesh3d\",\"colorbar\":{\"outlinewidth\":0,\"ticks\":\"\"}}],\"scatter\":[{\"fillpattern\":{\"fillmode\":\"overlay\",\"size\":10,\"solidity\":0.2},\"type\":\"scatter\"}],\"parcoords\":[{\"type\":\"parcoords\",\"line\":{\"colorbar\":{\"outlinewidth\":0,\"ticks\":\"\"}}}],\"scatterpolargl\":[{\"type\":\"scatterpolargl\",\"marker\":{\"colorbar\":{\"outlinewidth\":0,\"ticks\":\"\"}}}],\"bar\":[{\"error_x\":{\"color\":\"#2a3f5f\"},\"error_y\":{\"color\":\"#2a3f5f\"},\"marker\":{\"line\":{\"color\":\"#E5ECF6\",\"width\":0.5},\"pattern\":{\"fillmode\":\"overlay\",\"size\":10,\"solidity\":0.2}},\"type\":\"bar\"}],\"scattergeo\":[{\"type\":\"scattergeo\",\"marker\":{\"colorbar\":{\"outlinewidth\":0,\"ticks\":\"\"}}}],\"scatterpolar\":[{\"type\":\"scatterpolar\",\"marker\":{\"colorbar\":{\"outlinewidth\":0,\"ticks\":\"\"}}}],\"histogram\":[{\"marker\":{\"pattern\":{\"fillmode\":\"overlay\",\"size\":10,\"solidity\":0.2}},\"type\":\"histogram\"}],\"scattergl\":[{\"type\":\"scattergl\",\"marker\":{\"colorbar\":{\"outlinewidth\":0,\"ticks\":\"\"}}}],\"scatter3d\":[{\"type\":\"scatter3d\",\"line\":{\"colorbar\":{\"outlinewidth\":0,\"ticks\":\"\"}},\"marker\":{\"colorbar\":{\"outlinewidth\":0,\"ticks\":\"\"}}}],\"scattermapbox\":[{\"type\":\"scattermapbox\",\"marker\":{\"colorbar\":{\"outlinewidth\":0,\"ticks\":\"\"}}}],\"scatterternary\":[{\"type\":\"scatterternary\",\"marker\":{\"colorbar\":{\"outlinewidth\":0,\"ticks\":\"\"}}}],\"scattercarpet\":[{\"type\":\"scattercarpet\",\"marker\":{\"colorbar\":{\"outlinewidth\":0,\"ticks\":\"\"}}}],\"carpet\":[{\"aaxis\":{\"endlinecolor\":\"#2a3f5f\",\"gridcolor\":\"white\",\"linecolor\":\"white\",\"minorgridcolor\":\"white\",\"startlinecolor\":\"#2a3f5f\"},\"baxis\":{\"endlinecolor\":\"#2a3f5f\",\"gridcolor\":\"white\",\"linecolor\":\"white\",\"minorgridcolor\":\"white\",\"startlinecolor\":\"#2a3f5f\"},\"type\":\"carpet\"}],\"table\":[{\"cells\":{\"fill\":{\"color\":\"#EBF0F8\"},\"line\":{\"color\":\"white\"}},\"header\":{\"fill\":{\"color\":\"#C8D4E3\"},\"line\":{\"color\":\"white\"}},\"type\":\"table\"}],\"barpolar\":[{\"marker\":{\"line\":{\"color\":\"#E5ECF6\",\"width\":0.5},\"pattern\":{\"fillmode\":\"overlay\",\"size\":10,\"solidity\":0.2}},\"type\":\"barpolar\"}],\"pie\":[{\"automargin\":true,\"type\":\"pie\"}]},\"layout\":{\"autotypenumbers\":\"strict\",\"colorway\":[\"#636efa\",\"#EF553B\",\"#00cc96\",\"#ab63fa\",\"#FFA15A\",\"#19d3f3\",\"#FF6692\",\"#B6E880\",\"#FF97FF\",\"#FECB52\"],\"font\":{\"color\":\"#2a3f5f\"},\"hovermode\":\"closest\",\"hoverlabel\":{\"align\":\"left\"},\"paper_bgcolor\":\"white\",\"plot_bgcolor\":\"#E5ECF6\",\"polar\":{\"bgcolor\":\"#E5ECF6\",\"angularaxis\":{\"gridcolor\":\"white\",\"linecolor\":\"white\",\"ticks\":\"\"},\"radialaxis\":{\"gridcolor\":\"white\",\"linecolor\":\"white\",\"ticks\":\"\"}},\"ternary\":{\"bgcolor\":\"#E5ECF6\",\"aaxis\":{\"gridcolor\":\"white\",\"linecolor\":\"white\",\"ticks\":\"\"},\"baxis\":{\"gridcolor\":\"white\",\"linecolor\":\"white\",\"ticks\":\"\"},\"caxis\":{\"gridcolor\":\"white\",\"linecolor\":\"white\",\"ticks\":\"\"}},\"coloraxis\":{\"colorbar\":{\"outlinewidth\":0,\"ticks\":\"\"}},\"colorscale\":{\"sequential\":[[0.0,\"#0d0887\"],[0.1111111111111111,\"#46039f\"],[0.2222222222222222,\"#7201a8\"],[0.3333333333333333,\"#9c179e\"],[0.4444444444444444,\"#bd3786\"],[0.5555555555555556,\"#d8576b\"],[0.6666666666666666,\"#ed7953\"],[0.7777777777777778,\"#fb9f3a\"],[0.8888888888888888,\"#fdca26\"],[1.0,\"#f0f921\"]],\"sequentialminus\":[[0.0,\"#0d0887\"],[0.1111111111111111,\"#46039f\"],[0.2222222222222222,\"#7201a8\"],[0.3333333333333333,\"#9c179e\"],[0.4444444444444444,\"#bd3786\"],[0.5555555555555556,\"#d8576b\"],[0.6666666666666666,\"#ed7953\"],[0.7777777777777778,\"#fb9f3a\"],[0.8888888888888888,\"#fdca26\"],[1.0,\"#f0f921\"]],\"diverging\":[[0,\"#8e0152\"],[0.1,\"#c51b7d\"],[0.2,\"#de77ae\"],[0.3,\"#f1b6da\"],[0.4,\"#fde0ef\"],[0.5,\"#f7f7f7\"],[0.6,\"#e6f5d0\"],[0.7,\"#b8e186\"],[0.8,\"#7fbc41\"],[0.9,\"#4d9221\"],[1,\"#276419\"]]},\"xaxis\":{\"gridcolor\":\"white\",\"linecolor\":\"white\",\"ticks\":\"\",\"title\":{\"standoff\":15},\"zerolinecolor\":\"white\",\"automargin\":true,\"zerolinewidth\":2},\"yaxis\":{\"gridcolor\":\"white\",\"linecolor\":\"white\",\"ticks\":\"\",\"title\":{\"standoff\":15},\"zerolinecolor\":\"white\",\"automargin\":true,\"zerolinewidth\":2},\"scene\":{\"xaxis\":{\"backgroundcolor\":\"#E5ECF6\",\"gridcolor\":\"white\",\"linecolor\":\"white\",\"showbackground\":true,\"ticks\":\"\",\"zerolinecolor\":\"white\",\"gridwidth\":2},\"yaxis\":{\"backgroundcolor\":\"#E5ECF6\",\"gridcolor\":\"white\",\"linecolor\":\"white\",\"showbackground\":true,\"ticks\":\"\",\"zerolinecolor\":\"white\",\"gridwidth\":2},\"zaxis\":{\"backgroundcolor\":\"#E5ECF6\",\"gridcolor\":\"white\",\"linecolor\":\"white\",\"showbackground\":true,\"ticks\":\"\",\"zerolinecolor\":\"white\",\"gridwidth\":2}},\"shapedefaults\":{\"line\":{\"color\":\"#2a3f5f\"}},\"annotationdefaults\":{\"arrowcolor\":\"#2a3f5f\",\"arrowhead\":0,\"arrowwidth\":1},\"geo\":{\"bgcolor\":\"white\",\"landcolor\":\"#E5ECF6\",\"subunitcolor\":\"white\",\"showland\":true,\"showlakes\":true,\"lakecolor\":\"white\"},\"title\":{\"x\":0.05},\"mapbox\":{\"style\":\"light\"}}},\"legend\":{\"tracegroupgap\":0},\"margin\":{\"t\":60}},                        {\"responsive\": true}                    ).then(function(){\n",
              "                            \n",
              "var gd = document.getElementById('5734a461-5ab1-4365-a17d-6ecf6ef1c214');\n",
              "var x = new MutationObserver(function (mutations, observer) {{\n",
              "        var display = window.getComputedStyle(gd).display;\n",
              "        if (!display || display === 'none') {{\n",
              "            console.log([gd, 'removed!']);\n",
              "            Plotly.purge(gd);\n",
              "            observer.disconnect();\n",
              "        }}\n",
              "}});\n",
              "\n",
              "// Listen for the removal of the full notebook cells\n",
              "var notebookContainer = gd.closest('#notebook-container');\n",
              "if (notebookContainer) {{\n",
              "    x.observe(notebookContainer, {childList: true});\n",
              "}}\n",
              "\n",
              "// Listen for the clearing of the current output cell\n",
              "var outputEl = gd.closest('.output');\n",
              "if (outputEl) {{\n",
              "    x.observe(outputEl, {childList: true});\n",
              "}}\n",
              "\n",
              "                        })                };                            </script>        </div>\n",
              "</body>\n",
              "</html>"
            ]
          },
          "metadata": {}
        }
      ]
    }
  ]
}